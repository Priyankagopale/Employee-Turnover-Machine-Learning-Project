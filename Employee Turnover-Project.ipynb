{
 "cells": [
  {
   "cell_type": "markdown",
   "metadata": {},
   "source": [
    "# Importing Required Libraries"
   ]
  },
  {
   "cell_type": "code",
   "execution_count": 1,
   "metadata": {
    "id": "QF69xfoWEOeg"
   },
   "outputs": [],
   "source": [
    "import numpy as np\n",
    "import matplotlib.pyplot as plt\n",
    "import pandas as pd\n",
    "import seaborn as sns\n",
    "import warnings\n",
    "warnings.filterwarnings('ignore')"
   ]
  },
  {
   "cell_type": "markdown",
   "metadata": {},
   "source": [
    "# Loading the Data Set"
   ]
  },
  {
   "cell_type": "code",
   "execution_count": 2,
   "metadata": {
    "colab": {
     "base_uri": "https://localhost:8080/",
     "height": 206
    },
    "id": "iUeVncwtEblt",
    "outputId": "d40018cb-22db-4ec5-8b0e-b74ae2d628ab"
   },
   "outputs": [],
   "source": [
    "df=pd.read_csv('Employee Turnover.csv')"
   ]
  },
  {
   "cell_type": "markdown",
   "metadata": {},
   "source": [
    "# Showing first 5 values"
   ]
  },
  {
   "cell_type": "code",
   "execution_count": 3,
   "metadata": {},
   "outputs": [
    {
     "data": {
      "text/html": [
       "<div>\n",
       "<style scoped>\n",
       "    .dataframe tbody tr th:only-of-type {\n",
       "        vertical-align: middle;\n",
       "    }\n",
       "\n",
       "    .dataframe tbody tr th {\n",
       "        vertical-align: top;\n",
       "    }\n",
       "\n",
       "    .dataframe thead th {\n",
       "        text-align: right;\n",
       "    }\n",
       "</style>\n",
       "<table border=\"1\" class=\"dataframe\">\n",
       "  <thead>\n",
       "    <tr style=\"text-align: right;\">\n",
       "      <th></th>\n",
       "      <th>satisfaction_level</th>\n",
       "      <th>last_evaluation</th>\n",
       "      <th>number_project</th>\n",
       "      <th>average_montly_hours</th>\n",
       "      <th>time_spend_company</th>\n",
       "      <th>Work_accident</th>\n",
       "      <th>left</th>\n",
       "      <th>promotion_last_5years</th>\n",
       "      <th>sales</th>\n",
       "      <th>salary</th>\n",
       "    </tr>\n",
       "  </thead>\n",
       "  <tbody>\n",
       "    <tr>\n",
       "      <th>0</th>\n",
       "      <td>0.38</td>\n",
       "      <td>0.53</td>\n",
       "      <td>2</td>\n",
       "      <td>157</td>\n",
       "      <td>3</td>\n",
       "      <td>0</td>\n",
       "      <td>1</td>\n",
       "      <td>0</td>\n",
       "      <td>sales</td>\n",
       "      <td>low</td>\n",
       "    </tr>\n",
       "    <tr>\n",
       "      <th>1</th>\n",
       "      <td>0.80</td>\n",
       "      <td>0.86</td>\n",
       "      <td>5</td>\n",
       "      <td>262</td>\n",
       "      <td>6</td>\n",
       "      <td>0</td>\n",
       "      <td>1</td>\n",
       "      <td>0</td>\n",
       "      <td>sales</td>\n",
       "      <td>medium</td>\n",
       "    </tr>\n",
       "    <tr>\n",
       "      <th>2</th>\n",
       "      <td>0.11</td>\n",
       "      <td>0.88</td>\n",
       "      <td>7</td>\n",
       "      <td>272</td>\n",
       "      <td>4</td>\n",
       "      <td>0</td>\n",
       "      <td>1</td>\n",
       "      <td>0</td>\n",
       "      <td>sales</td>\n",
       "      <td>medium</td>\n",
       "    </tr>\n",
       "    <tr>\n",
       "      <th>3</th>\n",
       "      <td>0.72</td>\n",
       "      <td>0.87</td>\n",
       "      <td>5</td>\n",
       "      <td>223</td>\n",
       "      <td>5</td>\n",
       "      <td>0</td>\n",
       "      <td>1</td>\n",
       "      <td>0</td>\n",
       "      <td>sales</td>\n",
       "      <td>low</td>\n",
       "    </tr>\n",
       "    <tr>\n",
       "      <th>4</th>\n",
       "      <td>0.37</td>\n",
       "      <td>0.52</td>\n",
       "      <td>2</td>\n",
       "      <td>159</td>\n",
       "      <td>3</td>\n",
       "      <td>0</td>\n",
       "      <td>1</td>\n",
       "      <td>0</td>\n",
       "      <td>sales</td>\n",
       "      <td>low</td>\n",
       "    </tr>\n",
       "  </tbody>\n",
       "</table>\n",
       "</div>"
      ],
      "text/plain": [
       "   satisfaction_level  last_evaluation  number_project  average_montly_hours  \\\n",
       "0                0.38             0.53               2                   157   \n",
       "1                0.80             0.86               5                   262   \n",
       "2                0.11             0.88               7                   272   \n",
       "3                0.72             0.87               5                   223   \n",
       "4                0.37             0.52               2                   159   \n",
       "\n",
       "   time_spend_company  Work_accident  left  promotion_last_5years  sales  \\\n",
       "0                   3              0     1                      0  sales   \n",
       "1                   6              0     1                      0  sales   \n",
       "2                   4              0     1                      0  sales   \n",
       "3                   5              0     1                      0  sales   \n",
       "4                   3              0     1                      0  sales   \n",
       "\n",
       "   salary  \n",
       "0     low  \n",
       "1  medium  \n",
       "2  medium  \n",
       "3     low  \n",
       "4     low  "
      ]
     },
     "execution_count": 3,
     "metadata": {},
     "output_type": "execute_result"
    }
   ],
   "source": [
    "df.head()"
   ]
  },
  {
   "cell_type": "markdown",
   "metadata": {},
   "source": [
    "# check datatype"
   ]
  },
  {
   "cell_type": "code",
   "execution_count": 4,
   "metadata": {
    "colab": {
     "base_uri": "https://localhost:8080/"
    },
    "id": "qxb7m4xvIXiQ",
    "outputId": "acae49b1-c460-4f4d-82f7-dcfa46d4fb63"
   },
   "outputs": [
    {
     "data": {
      "text/plain": [
       "satisfaction_level       float64\n",
       "last_evaluation          float64\n",
       "number_project             int64\n",
       "average_montly_hours       int64\n",
       "time_spend_company         int64\n",
       "Work_accident              int64\n",
       "left                       int64\n",
       "promotion_last_5years      int64\n",
       "sales                     object\n",
       "salary                    object\n",
       "dtype: object"
      ]
     },
     "execution_count": 4,
     "metadata": {},
     "output_type": "execute_result"
    }
   ],
   "source": [
    "df.dtypes"
   ]
  },
  {
   "cell_type": "markdown",
   "metadata": {},
   "source": [
    "# check columns and rows"
   ]
  },
  {
   "cell_type": "code",
   "execution_count": 5,
   "metadata": {
    "colab": {
     "base_uri": "https://localhost:8080/"
    },
    "id": "31mKE3DLIjMk",
    "outputId": "a0ec8d70-2f8c-427b-ddf9-747ea3605123"
   },
   "outputs": [
    {
     "data": {
      "text/plain": [
       "(14999, 10)"
      ]
     },
     "execution_count": 5,
     "metadata": {},
     "output_type": "execute_result"
    }
   ],
   "source": [
    "df.shape"
   ]
  },
  {
   "cell_type": "markdown",
   "metadata": {},
   "source": [
    "# check null values"
   ]
  },
  {
   "cell_type": "code",
   "execution_count": 6,
   "metadata": {
    "colab": {
     "base_uri": "https://localhost:8080/"
    },
    "id": "imYBZsavI7cC",
    "outputId": "b7d582bd-9862-43dc-8563-61a698ab6fa3"
   },
   "outputs": [
    {
     "data": {
      "text/plain": [
       "satisfaction_level       0\n",
       "last_evaluation          0\n",
       "number_project           0\n",
       "average_montly_hours     0\n",
       "time_spend_company       0\n",
       "Work_accident            0\n",
       "left                     0\n",
       "promotion_last_5years    0\n",
       "sales                    0\n",
       "salary                   0\n",
       "dtype: int64"
      ]
     },
     "execution_count": 6,
     "metadata": {},
     "output_type": "execute_result"
    }
   ],
   "source": [
    "df.isnull().sum()"
   ]
  },
  {
   "cell_type": "markdown",
   "metadata": {},
   "source": [
    "# Visualize null values"
   ]
  },
  {
   "cell_type": "code",
   "execution_count": 7,
   "metadata": {},
   "outputs": [
    {
     "data": {
      "image/png": "[encoded data removed]",
      "text/plain": [
       "<Figure size 432x288 with 2 Axes>"
      ]
     },
     "metadata": {
      "needs_background": "light"
     },
     "output_type": "display_data"
    }
   ],
   "source": [
    "sns.heatmap(df.isnull())\n",
    "plt.show()"
   ]
  },
  {
   "cell_type": "markdown",
   "metadata": {},
   "source": [
    "# As there are no Null Values and all the Column Data Types are categorical and numerical now we will perform different Machine Learning Techniques.\n"
   ]
  },
  {
   "cell_type": "code",
   "execution_count": 8,
   "metadata": {
    "colab": {
     "base_uri": "https://localhost:8080/"
    },
    "id": "8OHfQPtfJCpK",
    "outputId": "ba8a3dbe-0b95-4a75-fd35-a8632d2eae29"
   },
   "outputs": [
    {
     "data": {
      "text/plain": [
       "3008"
      ]
     },
     "execution_count": 8,
     "metadata": {},
     "output_type": "execute_result"
    }
   ],
   "source": [
    "#check duplicates\n",
    "df.duplicated().sum()"
   ]
  },
  {
   "cell_type": "code",
   "execution_count": 9,
   "metadata": {
    "id": "TwSkmbInJIdx"
   },
   "outputs": [],
   "source": [
    "#remove duplicates\n",
    "df.drop_duplicates(inplace=True)"
   ]
  },
  {
   "cell_type": "code",
   "execution_count": 10,
   "metadata": {
    "colab": {
     "base_uri": "https://localhost:8080/"
    },
    "id": "FhuCxl9NJi64",
    "outputId": "82762ad1-720d-4ea3-b33e-c7d80d3baffb"
   },
   "outputs": [
    {
     "data": {
      "text/plain": [
       "0"
      ]
     },
     "execution_count": 10,
     "metadata": {},
     "output_type": "execute_result"
    }
   ],
   "source": [
    "#check duplicates\n",
    "df.duplicated().sum()"
   ]
  },
  {
   "cell_type": "markdown",
   "metadata": {},
   "source": [
    "# Removed Duplicate Values"
   ]
  },
  {
   "cell_type": "code",
   "execution_count": 11,
   "metadata": {
    "id": "PQR3u6r5JxDI"
   },
   "outputs": [],
   "source": [
    "#separate data into categorical and numerical\n",
    "df_num=df.select_dtypes(['int64','float64'])\n",
    "df_cat=df.select_dtypes(object)"
   ]
  },
  {
   "cell_type": "code",
   "execution_count": 12,
   "metadata": {
    "colab": {
     "base_uri": "https://localhost:8080/",
     "height": 424
    },
    "id": "cJyAV9YuKTdn",
    "outputId": "72fa58b1-5f21-49d6-ac34-a01981b4a527"
   },
   "outputs": [
    {
     "data": {
      "text/html": [
       "<div>\n",
       "<style scoped>\n",
       "    .dataframe tbody tr th:only-of-type {\n",
       "        vertical-align: middle;\n",
       "    }\n",
       "\n",
       "    .dataframe tbody tr th {\n",
       "        vertical-align: top;\n",
       "    }\n",
       "\n",
       "    .dataframe thead th {\n",
       "        text-align: right;\n",
       "    }\n",
       "</style>\n",
       "<table border=\"1\" class=\"dataframe\">\n",
       "  <thead>\n",
       "    <tr style=\"text-align: right;\">\n",
       "      <th></th>\n",
       "      <th>sales</th>\n",
       "      <th>salary</th>\n",
       "    </tr>\n",
       "  </thead>\n",
       "  <tbody>\n",
       "    <tr>\n",
       "      <th>0</th>\n",
       "      <td>sales</td>\n",
       "      <td>low</td>\n",
       "    </tr>\n",
       "    <tr>\n",
       "      <th>1</th>\n",
       "      <td>sales</td>\n",
       "      <td>medium</td>\n",
       "    </tr>\n",
       "    <tr>\n",
       "      <th>2</th>\n",
       "      <td>sales</td>\n",
       "      <td>medium</td>\n",
       "    </tr>\n",
       "    <tr>\n",
       "      <th>3</th>\n",
       "      <td>sales</td>\n",
       "      <td>low</td>\n",
       "    </tr>\n",
       "    <tr>\n",
       "      <th>4</th>\n",
       "      <td>sales</td>\n",
       "      <td>low</td>\n",
       "    </tr>\n",
       "    <tr>\n",
       "      <th>...</th>\n",
       "      <td>...</td>\n",
       "      <td>...</td>\n",
       "    </tr>\n",
       "    <tr>\n",
       "      <th>11995</th>\n",
       "      <td>management</td>\n",
       "      <td>high</td>\n",
       "    </tr>\n",
       "    <tr>\n",
       "      <th>11996</th>\n",
       "      <td>management</td>\n",
       "      <td>high</td>\n",
       "    </tr>\n",
       "    <tr>\n",
       "      <th>11997</th>\n",
       "      <td>management</td>\n",
       "      <td>high</td>\n",
       "    </tr>\n",
       "    <tr>\n",
       "      <th>11998</th>\n",
       "      <td>marketing</td>\n",
       "      <td>high</td>\n",
       "    </tr>\n",
       "    <tr>\n",
       "      <th>11999</th>\n",
       "      <td>IT</td>\n",
       "      <td>low</td>\n",
       "    </tr>\n",
       "  </tbody>\n",
       "</table>\n",
       "<p>11991 rows × 2 columns</p>\n",
       "</div>"
      ],
      "text/plain": [
       "            sales  salary\n",
       "0           sales     low\n",
       "1           sales  medium\n",
       "2           sales  medium\n",
       "3           sales     low\n",
       "4           sales     low\n",
       "...           ...     ...\n",
       "11995  management    high\n",
       "11996  management    high\n",
       "11997  management    high\n",
       "11998   marketing    high\n",
       "11999          IT     low\n",
       "\n",
       "[11991 rows x 2 columns]"
      ]
     },
     "execution_count": 12,
     "metadata": {},
     "output_type": "execute_result"
    }
   ],
   "source": [
    "#Categorical Data Type\n",
    "df_cat"
   ]
  },
  {
   "cell_type": "code",
   "execution_count": 13,
   "metadata": {
    "colab": {
     "base_uri": "https://localhost:8080/",
     "height": 424
    },
    "id": "MIsnAK4zKby9",
    "outputId": "a1c842a4-bf9f-4334-f9a5-f6a2dcaa8e1d"
   },
   "outputs": [
    {
     "data": {
      "text/html": [
       "<div>\n",
       "<style scoped>\n",
       "    .dataframe tbody tr th:only-of-type {\n",
       "        vertical-align: middle;\n",
       "    }\n",
       "\n",
       "    .dataframe tbody tr th {\n",
       "        vertical-align: top;\n",
       "    }\n",
       "\n",
       "    .dataframe thead th {\n",
       "        text-align: right;\n",
       "    }\n",
       "</style>\n",
       "<table border=\"1\" class=\"dataframe\">\n",
       "  <thead>\n",
       "    <tr style=\"text-align: right;\">\n",
       "      <th></th>\n",
       "      <th>satisfaction_level</th>\n",
       "      <th>last_evaluation</th>\n",
       "      <th>number_project</th>\n",
       "      <th>average_montly_hours</th>\n",
       "      <th>time_spend_company</th>\n",
       "      <th>Work_accident</th>\n",
       "      <th>left</th>\n",
       "      <th>promotion_last_5years</th>\n",
       "    </tr>\n",
       "  </thead>\n",
       "  <tbody>\n",
       "    <tr>\n",
       "      <th>0</th>\n",
       "      <td>0.38</td>\n",
       "      <td>0.53</td>\n",
       "      <td>2</td>\n",
       "      <td>157</td>\n",
       "      <td>3</td>\n",
       "      <td>0</td>\n",
       "      <td>1</td>\n",
       "      <td>0</td>\n",
       "    </tr>\n",
       "    <tr>\n",
       "      <th>1</th>\n",
       "      <td>0.80</td>\n",
       "      <td>0.86</td>\n",
       "      <td>5</td>\n",
       "      <td>262</td>\n",
       "      <td>6</td>\n",
       "      <td>0</td>\n",
       "      <td>1</td>\n",
       "      <td>0</td>\n",
       "    </tr>\n",
       "    <tr>\n",
       "      <th>2</th>\n",
       "      <td>0.11</td>\n",
       "      <td>0.88</td>\n",
       "      <td>7</td>\n",
       "      <td>272</td>\n",
       "      <td>4</td>\n",
       "      <td>0</td>\n",
       "      <td>1</td>\n",
       "      <td>0</td>\n",
       "    </tr>\n",
       "    <tr>\n",
       "      <th>3</th>\n",
       "      <td>0.72</td>\n",
       "      <td>0.87</td>\n",
       "      <td>5</td>\n",
       "      <td>223</td>\n",
       "      <td>5</td>\n",
       "      <td>0</td>\n",
       "      <td>1</td>\n",
       "      <td>0</td>\n",
       "    </tr>\n",
       "    <tr>\n",
       "      <th>4</th>\n",
       "      <td>0.37</td>\n",
       "      <td>0.52</td>\n",
       "      <td>2</td>\n",
       "      <td>159</td>\n",
       "      <td>3</td>\n",
       "      <td>0</td>\n",
       "      <td>1</td>\n",
       "      <td>0</td>\n",
       "    </tr>\n",
       "    <tr>\n",
       "      <th>...</th>\n",
       "      <td>...</td>\n",
       "      <td>...</td>\n",
       "      <td>...</td>\n",
       "      <td>...</td>\n",
       "      <td>...</td>\n",
       "      <td>...</td>\n",
       "      <td>...</td>\n",
       "      <td>...</td>\n",
       "    </tr>\n",
       "    <tr>\n",
       "      <th>11995</th>\n",
       "      <td>0.90</td>\n",
       "      <td>0.55</td>\n",
       "      <td>3</td>\n",
       "      <td>259</td>\n",
       "      <td>10</td>\n",
       "      <td>1</td>\n",
       "      <td>0</td>\n",
       "      <td>1</td>\n",
       "    </tr>\n",
       "    <tr>\n",
       "      <th>11996</th>\n",
       "      <td>0.74</td>\n",
       "      <td>0.95</td>\n",
       "      <td>5</td>\n",
       "      <td>266</td>\n",
       "      <td>10</td>\n",
       "      <td>0</td>\n",
       "      <td>0</td>\n",
       "      <td>1</td>\n",
       "    </tr>\n",
       "    <tr>\n",
       "      <th>11997</th>\n",
       "      <td>0.85</td>\n",
       "      <td>0.54</td>\n",
       "      <td>3</td>\n",
       "      <td>185</td>\n",
       "      <td>10</td>\n",
       "      <td>0</td>\n",
       "      <td>0</td>\n",
       "      <td>1</td>\n",
       "    </tr>\n",
       "    <tr>\n",
       "      <th>11998</th>\n",
       "      <td>0.33</td>\n",
       "      <td>0.65</td>\n",
       "      <td>3</td>\n",
       "      <td>172</td>\n",
       "      <td>10</td>\n",
       "      <td>0</td>\n",
       "      <td>0</td>\n",
       "      <td>1</td>\n",
       "    </tr>\n",
       "    <tr>\n",
       "      <th>11999</th>\n",
       "      <td>0.50</td>\n",
       "      <td>0.73</td>\n",
       "      <td>4</td>\n",
       "      <td>180</td>\n",
       "      <td>3</td>\n",
       "      <td>0</td>\n",
       "      <td>0</td>\n",
       "      <td>0</td>\n",
       "    </tr>\n",
       "  </tbody>\n",
       "</table>\n",
       "<p>11991 rows × 8 columns</p>\n",
       "</div>"
      ],
      "text/plain": [
       "       satisfaction_level  last_evaluation  number_project  \\\n",
       "0                    0.38             0.53               2   \n",
       "1                    0.80             0.86               5   \n",
       "2                    0.11             0.88               7   \n",
       "3                    0.72             0.87               5   \n",
       "4                    0.37             0.52               2   \n",
       "...                   ...              ...             ...   \n",
       "11995                0.90             0.55               3   \n",
       "11996                0.74             0.95               5   \n",
       "11997                0.85             0.54               3   \n",
       "11998                0.33             0.65               3   \n",
       "11999                0.50             0.73               4   \n",
       "\n",
       "       average_montly_hours  time_spend_company  Work_accident  left  \\\n",
       "0                       157                   3              0     1   \n",
       "1                       262                   6              0     1   \n",
       "2                       272                   4              0     1   \n",
       "3                       223                   5              0     1   \n",
       "4                       159                   3              0     1   \n",
       "...                     ...                 ...            ...   ...   \n",
       "11995                   259                  10              1     0   \n",
       "11996                   266                  10              0     0   \n",
       "11997                   185                  10              0     0   \n",
       "11998                   172                  10              0     0   \n",
       "11999                   180                   3              0     0   \n",
       "\n",
       "       promotion_last_5years  \n",
       "0                          0  \n",
       "1                          0  \n",
       "2                          0  \n",
       "3                          0  \n",
       "4                          0  \n",
       "...                      ...  \n",
       "11995                      1  \n",
       "11996                      1  \n",
       "11997                      1  \n",
       "11998                      1  \n",
       "11999                      0  \n",
       "\n",
       "[11991 rows x 8 columns]"
      ]
     },
     "execution_count": 13,
     "metadata": {},
     "output_type": "execute_result"
    }
   ],
   "source": [
    "#Numerical Data Type\n",
    "df_num"
   ]
  },
  {
   "cell_type": "markdown",
   "metadata": {},
   "source": [
    "# Applying LabelEncoder"
   ]
  },
  {
   "cell_type": "code",
   "execution_count": 14,
   "metadata": {
    "id": "3v6nEedkKdgc"
   },
   "outputs": [],
   "source": [
    "from sklearn.preprocessing import LabelEncoder\n",
    "for col in df_cat:\n",
    "  le=LabelEncoder()\n",
    "  df_cat[col]=le.fit_transform(df_cat[[col]])"
   ]
  },
  {
   "cell_type": "code",
   "execution_count": 15,
   "metadata": {
    "colab": {
     "base_uri": "https://localhost:8080/",
     "height": 206
    },
    "id": "QrSXFbsdKqYz",
    "outputId": "795b6db3-7659-4981-d936-e30436d1e61d"
   },
   "outputs": [
    {
     "data": {
      "text/html": [
       "<div>\n",
       "<style scoped>\n",
       "    .dataframe tbody tr th:only-of-type {\n",
       "        vertical-align: middle;\n",
       "    }\n",
       "\n",
       "    .dataframe tbody tr th {\n",
       "        vertical-align: top;\n",
       "    }\n",
       "\n",
       "    .dataframe thead th {\n",
       "        text-align: right;\n",
       "    }\n",
       "</style>\n",
       "<table border=\"1\" class=\"dataframe\">\n",
       "  <thead>\n",
       "    <tr style=\"text-align: right;\">\n",
       "      <th></th>\n",
       "      <th>sales</th>\n",
       "      <th>salary</th>\n",
       "    </tr>\n",
       "  </thead>\n",
       "  <tbody>\n",
       "    <tr>\n",
       "      <th>0</th>\n",
       "      <td>7</td>\n",
       "      <td>1</td>\n",
       "    </tr>\n",
       "    <tr>\n",
       "      <th>1</th>\n",
       "      <td>7</td>\n",
       "      <td>2</td>\n",
       "    </tr>\n",
       "    <tr>\n",
       "      <th>2</th>\n",
       "      <td>7</td>\n",
       "      <td>2</td>\n",
       "    </tr>\n",
       "    <tr>\n",
       "      <th>3</th>\n",
       "      <td>7</td>\n",
       "      <td>1</td>\n",
       "    </tr>\n",
       "    <tr>\n",
       "      <th>4</th>\n",
       "      <td>7</td>\n",
       "      <td>1</td>\n",
       "    </tr>\n",
       "  </tbody>\n",
       "</table>\n",
       "</div>"
      ],
      "text/plain": [
       "   sales  salary\n",
       "0      7       1\n",
       "1      7       2\n",
       "2      7       2\n",
       "3      7       1\n",
       "4      7       1"
      ]
     },
     "execution_count": 15,
     "metadata": {},
     "output_type": "execute_result"
    }
   ],
   "source": [
    "df_cat.head()"
   ]
  },
  {
   "cell_type": "code",
   "execution_count": 16,
   "metadata": {
    "colab": {
     "base_uri": "https://localhost:8080/",
     "height": 206
    },
    "id": "68KJlnJ8LGRC",
    "outputId": "5380b2ad-3165-4b71-c86d-d0f4200dfa71"
   },
   "outputs": [
    {
     "data": {
      "text/html": [
       "<div>\n",
       "<style scoped>\n",
       "    .dataframe tbody tr th:only-of-type {\n",
       "        vertical-align: middle;\n",
       "    }\n",
       "\n",
       "    .dataframe tbody tr th {\n",
       "        vertical-align: top;\n",
       "    }\n",
       "\n",
       "    .dataframe thead th {\n",
       "        text-align: right;\n",
       "    }\n",
       "</style>\n",
       "<table border=\"1\" class=\"dataframe\">\n",
       "  <thead>\n",
       "    <tr style=\"text-align: right;\">\n",
       "      <th></th>\n",
       "      <th>satisfaction_level</th>\n",
       "      <th>last_evaluation</th>\n",
       "      <th>number_project</th>\n",
       "      <th>average_montly_hours</th>\n",
       "      <th>time_spend_company</th>\n",
       "      <th>Work_accident</th>\n",
       "      <th>left</th>\n",
       "      <th>promotion_last_5years</th>\n",
       "      <th>sales</th>\n",
       "      <th>salary</th>\n",
       "    </tr>\n",
       "  </thead>\n",
       "  <tbody>\n",
       "    <tr>\n",
       "      <th>0</th>\n",
       "      <td>0.38</td>\n",
       "      <td>0.53</td>\n",
       "      <td>2</td>\n",
       "      <td>157</td>\n",
       "      <td>3</td>\n",
       "      <td>0</td>\n",
       "      <td>1</td>\n",
       "      <td>0</td>\n",
       "      <td>7</td>\n",
       "      <td>1</td>\n",
       "    </tr>\n",
       "    <tr>\n",
       "      <th>1</th>\n",
       "      <td>0.80</td>\n",
       "      <td>0.86</td>\n",
       "      <td>5</td>\n",
       "      <td>262</td>\n",
       "      <td>6</td>\n",
       "      <td>0</td>\n",
       "      <td>1</td>\n",
       "      <td>0</td>\n",
       "      <td>7</td>\n",
       "      <td>2</td>\n",
       "    </tr>\n",
       "    <tr>\n",
       "      <th>2</th>\n",
       "      <td>0.11</td>\n",
       "      <td>0.88</td>\n",
       "      <td>7</td>\n",
       "      <td>272</td>\n",
       "      <td>4</td>\n",
       "      <td>0</td>\n",
       "      <td>1</td>\n",
       "      <td>0</td>\n",
       "      <td>7</td>\n",
       "      <td>2</td>\n",
       "    </tr>\n",
       "    <tr>\n",
       "      <th>3</th>\n",
       "      <td>0.72</td>\n",
       "      <td>0.87</td>\n",
       "      <td>5</td>\n",
       "      <td>223</td>\n",
       "      <td>5</td>\n",
       "      <td>0</td>\n",
       "      <td>1</td>\n",
       "      <td>0</td>\n",
       "      <td>7</td>\n",
       "      <td>1</td>\n",
       "    </tr>\n",
       "    <tr>\n",
       "      <th>4</th>\n",
       "      <td>0.37</td>\n",
       "      <td>0.52</td>\n",
       "      <td>2</td>\n",
       "      <td>159</td>\n",
       "      <td>3</td>\n",
       "      <td>0</td>\n",
       "      <td>1</td>\n",
       "      <td>0</td>\n",
       "      <td>7</td>\n",
       "      <td>1</td>\n",
       "    </tr>\n",
       "  </tbody>\n",
       "</table>\n",
       "</div>"
      ],
      "text/plain": [
       "   satisfaction_level  last_evaluation  number_project  average_montly_hours  \\\n",
       "0                0.38             0.53               2                   157   \n",
       "1                0.80             0.86               5                   262   \n",
       "2                0.11             0.88               7                   272   \n",
       "3                0.72             0.87               5                   223   \n",
       "4                0.37             0.52               2                   159   \n",
       "\n",
       "   time_spend_company  Work_accident  left  promotion_last_5years  sales  \\\n",
       "0                   3              0     1                      0      7   \n",
       "1                   6              0     1                      0      7   \n",
       "2                   4              0     1                      0      7   \n",
       "3                   5              0     1                      0      7   \n",
       "4                   3              0     1                      0      7   \n",
       "\n",
       "   salary  \n",
       "0       1  \n",
       "1       2  \n",
       "2       2  \n",
       "3       1  \n",
       "4       1  "
      ]
     },
     "execution_count": 16,
     "metadata": {},
     "output_type": "execute_result"
    }
   ],
   "source": [
    "#concatenate\n",
    "df_new=pd.concat([df_num,df_cat],axis=1)\n",
    "df_new.head()"
   ]
  },
  {
   "cell_type": "code",
   "execution_count": 17,
   "metadata": {
    "colab": {
     "base_uri": "https://localhost:8080/"
    },
    "id": "6CwbNp5HG6Y7",
    "outputId": "15a0a470-468c-43c5-fd0d-4157ea1d599f"
   },
   "outputs": [
    {
     "data": {
      "text/plain": [
       "array([1, 0], dtype=int64)"
      ]
     },
     "execution_count": 17,
     "metadata": {},
     "output_type": "execute_result"
    }
   ],
   "source": [
    "#checking y column \n",
    "df['left'].unique()"
   ]
  },
  {
   "cell_type": "code",
   "execution_count": 18,
   "metadata": {
    "id": "naI8l1_YQI1t"
   },
   "outputs": [],
   "source": [
    "#separate x and y\n",
    "x=df_new.drop('left',axis=1)\n",
    "y=df_new['left']"
   ]
  },
  {
   "cell_type": "markdown",
   "metadata": {},
   "source": [
    "# Applying Training and Testing on Data Set "
   ]
  },
  {
   "cell_type": "code",
   "execution_count": 19,
   "metadata": {},
   "outputs": [],
   "source": [
    "#train_test_split\n",
    "from sklearn.model_selection import train_test_split\n",
    "x_train,x_test,y_train,y_test=train_test_split(x,y,random_state=1,test_size=0.3)"
   ]
  },
  {
   "cell_type": "markdown",
   "metadata": {},
   "source": [
    "# Applying Scaling on Data Set"
   ]
  },
  {
   "cell_type": "code",
   "execution_count": 20,
   "metadata": {},
   "outputs": [],
   "source": [
    "from sklearn.preprocessing import StandardScaler\n",
    "ss=StandardScaler()\n",
    "x_train=ss.fit_transform(x_train)\n",
    "x_test=ss.transform(x_test)"
   ]
  },
  {
   "cell_type": "code",
   "execution_count": 21,
   "metadata": {},
   "outputs": [],
   "source": [
    "from sklearn.metrics import classification_report\n",
    "from sklearn.metrics import confusion_matrix"
   ]
  },
  {
   "cell_type": "code",
   "execution_count": 22,
   "metadata": {},
   "outputs": [],
   "source": [
    "def create_model(model):\n",
    "  model.fit(x_train,y_train)\n",
    "  y_pred=model.predict(x_test)\n",
    "  print(classification_report(y_test,y_pred))\n",
    "  print(confusion_matrix(y_test,y_pred))\n",
    "  return model"
   ]
  },
  {
   "cell_type": "code",
   "execution_count": 23,
   "metadata": {},
   "outputs": [
    {
     "name": "stdout",
     "output_type": "stream",
     "text": [
      "              precision    recall  f1-score   support\n",
      "\n",
      "           0       0.85      0.96      0.90      2971\n",
      "           1       0.49      0.18      0.26       627\n",
      "\n",
      "    accuracy                           0.82      3598\n",
      "   macro avg       0.67      0.57      0.58      3598\n",
      "weighted avg       0.79      0.82      0.79      3598\n",
      "\n",
      "[[2855  116]\n",
      " [ 514  113]]\n"
     ]
    }
   ],
   "source": [
    "from sklearn.linear_model import LogisticRegression\n",
    "lr=LogisticRegression()\n",
    "lr=create_model(lr)"
   ]
  },
  {
   "cell_type": "markdown",
   "metadata": {},
   "source": [
    "# Here as we can see the data is not equaly distributed."
   ]
  },
  {
   "cell_type": "code",
   "execution_count": 24,
   "metadata": {},
   "outputs": [
    {
     "data": {
      "text/plain": [
       "0    10000\n",
       "1     1991\n",
       "Name: left, dtype: int64"
      ]
     },
     "execution_count": 24,
     "metadata": {},
     "output_type": "execute_result"
    }
   ],
   "source": [
    "#checking Data Type is Balanced or no\n",
    "df['left'].value_counts()"
   ]
  },
  {
   "cell_type": "code",
   "execution_count": 25,
   "metadata": {},
   "outputs": [
    {
     "data": {
      "image/png": "[encoded data removed]",
      "text/plain": [
       "<Figure size 720x360 with 1 Axes>"
      ]
     },
     "metadata": {
      "needs_background": "light"
     },
     "output_type": "display_data"
    }
   ],
   "source": [
    "plt.figure(figsize=(10,5))\n",
    "sns.countplot(data=df,x='left')\n",
    "f = df['left'].value_counts()\n",
    "plt.yticks(f)\n",
    "plt.show()\n"
   ]
  },
  {
   "cell_type": "markdown",
   "metadata": {},
   "source": [
    "# Conclusion.\n",
    "From the above value_counts of 'left' Column and from the Graph\n",
    "There are about: '10000' Employees out of which '1991' were left\n",
    "Which means the Data is not properly distributed"
   ]
  },
  {
   "cell_type": "markdown",
   "metadata": {},
   "source": [
    "# Applying ' RandomOverSampler ' to make data equal."
   ]
  },
  {
   "cell_type": "code",
   "execution_count": 26,
   "metadata": {},
   "outputs": [],
   "source": [
    "#!pip install imblearn\n",
    "from imblearn.over_sampling import RandomOverSampler\n",
    "ros=RandomOverSampler(random_state=1)"
   ]
  },
  {
   "cell_type": "code",
   "execution_count": 27,
   "metadata": {
    "id": "eB5x3dOJ3cbn"
   },
   "outputs": [],
   "source": [
    "#training\n",
    "x_train_ros,y_train_ros=ros.fit_resample(x_train,y_train)"
   ]
  },
  {
   "cell_type": "code",
   "execution_count": 28,
   "metadata": {
    "colab": {
     "base_uri": "https://localhost:8080/"
    },
    "id": "OEnUI-r73yMq",
    "outputId": "3937a2b8-dc69-4db3-e434-a991f726c268"
   },
   "outputs": [
    {
     "data": {
      "text/plain": [
       "0    7029\n",
       "1    7029\n",
       "Name: left, dtype: int64"
      ]
     },
     "execution_count": 28,
     "metadata": {},
     "output_type": "execute_result"
    }
   ],
   "source": [
    "y_train_ros.value_counts()"
   ]
  },
  {
   "cell_type": "code",
   "execution_count": 29,
   "metadata": {
    "colab": {
     "base_uri": "https://localhost:8080/"
    },
    "id": "Bp8JPZeT36ZQ",
    "outputId": "b152cb31-bef3-4c8c-d7d6-a4ba5c50e8d9"
   },
   "outputs": [
    {
     "data": {
      "text/plain": [
       "0    2971\n",
       "1     627\n",
       "Name: left, dtype: int64"
      ]
     },
     "execution_count": 29,
     "metadata": {},
     "output_type": "execute_result"
    }
   ],
   "source": [
    "y_test.value_counts()"
   ]
  },
  {
   "cell_type": "code",
   "execution_count": 30,
   "metadata": {
    "id": "b219aziB4MdL"
   },
   "outputs": [],
   "source": [
    "#testing\n",
    "x_test_ros,y_test_ros=ros.fit_resample(x_test,y_test)"
   ]
  },
  {
   "cell_type": "code",
   "execution_count": 31,
   "metadata": {
    "colab": {
     "base_uri": "https://localhost:8080/"
    },
    "id": "sI316lV24jGx",
    "outputId": "e6b3d443-778f-416b-8037-3f7642fdc3b7"
   },
   "outputs": [
    {
     "data": {
      "text/plain": [
       "0    2971\n",
       "1    2971\n",
       "Name: left, dtype: int64"
      ]
     },
     "execution_count": 31,
     "metadata": {},
     "output_type": "execute_result"
    }
   ],
   "source": [
    "y_test_ros.value_counts()"
   ]
  },
  {
   "cell_type": "code",
   "execution_count": 32,
   "metadata": {
    "colab": {
     "base_uri": "https://localhost:8080/"
    },
    "id": "SCn3r9cE46PX",
    "outputId": "973c543d-e78f-43b1-88b4-01c304c35e1a"
   },
   "outputs": [
    {
     "data": {
      "text/plain": [
       "0    7029\n",
       "1    7029\n",
       "Name: left, dtype: int64"
      ]
     },
     "execution_count": 32,
     "metadata": {},
     "output_type": "execute_result"
    }
   ],
   "source": [
    "y_train_ros.value_counts()"
   ]
  },
  {
   "cell_type": "markdown",
   "metadata": {},
   "source": [
    "# Using LogisticRegression after Equalizing Data"
   ]
  },
  {
   "cell_type": "code",
   "execution_count": 33,
   "metadata": {},
   "outputs": [
    {
     "data": {
      "text/html": [
       "<style>#sk-container-id-1 {color: black;background-color: white;}#sk-container-id-1 pre{padding: 0;}#sk-container-id-1 div.sk-toggleable {background-color: white;}#sk-container-id-1 label.sk-toggleable__label {cursor: pointer;display: block;width: 100%;margin-bottom: 0;padding: 0.3em;box-sizing: border-box;text-align: center;}#sk-container-id-1 label.sk-toggleable__label-arrow:before {content: \"▸\";float: left;margin-right: 0.25em;color: #696969;}#sk-container-id-1 label.sk-toggleable__label-arrow:hover:before {color: black;}#sk-container-id-1 div.sk-estimator:hover label.sk-toggleable__label-arrow:before {color: black;}#sk-container-id-1 div.sk-toggleable__content {max-height: 0;max-width: 0;overflow: hidden;text-align: left;background-color: #f0f8ff;}#sk-container-id-1 div.sk-toggleable__content pre {margin: 0.2em;color: black;border-radius: 0.25em;background-color: #f0f8ff;}#sk-container-id-1 input.sk-toggleable__control:checked~div.sk-toggleable__content {max-height: 200px;max-width: 100%;overflow: auto;}#sk-container-id-1 input.sk-toggleable__control:checked~label.sk-toggleable__label-arrow:before {content: \"▾\";}#sk-container-id-1 div.sk-estimator input.sk-toggleable__control:checked~label.sk-toggleable__label {background-color: #d4ebff;}#sk-container-id-1 div.sk-label input.sk-toggleable__control:checked~label.sk-toggleable__label {background-color: #d4ebff;}#sk-container-id-1 input.sk-hidden--visually {border: 0;clip: rect(1px 1px 1px 1px);clip: rect(1px, 1px, 1px, 1px);height: 1px;margin: -1px;overflow: hidden;padding: 0;position: absolute;width: 1px;}#sk-container-id-1 div.sk-estimator {font-family: monospace;background-color: #f0f8ff;border: 1px dotted black;border-radius: 0.25em;box-sizing: border-box;margin-bottom: 0.5em;}#sk-container-id-1 div.sk-estimator:hover {background-color: #d4ebff;}#sk-container-id-1 div.sk-parallel-item::after {content: \"\";width: 100%;border-bottom: 1px solid gray;flex-grow: 1;}#sk-container-id-1 div.sk-label:hover label.sk-toggleable__label {background-color: #d4ebff;}#sk-container-id-1 div.sk-serial::before {content: \"\";position: absolute;border-left: 1px solid gray;box-sizing: border-box;top: 0;bottom: 0;left: 50%;z-index: 0;}#sk-container-id-1 div.sk-serial {display: flex;flex-direction: column;align-items: center;background-color: white;padding-right: 0.2em;padding-left: 0.2em;position: relative;}#sk-container-id-1 div.sk-item {position: relative;z-index: 1;}#sk-container-id-1 div.sk-parallel {display: flex;align-items: stretch;justify-content: center;background-color: white;position: relative;}#sk-container-id-1 div.sk-item::before, #sk-container-id-1 div.sk-parallel-item::before {content: \"\";position: absolute;border-left: 1px solid gray;box-sizing: border-box;top: 0;bottom: 0;left: 50%;z-index: -1;}#sk-container-id-1 div.sk-parallel-item {display: flex;flex-direction: column;z-index: 1;position: relative;background-color: white;}#sk-container-id-1 div.sk-parallel-item:first-child::after {align-self: flex-end;width: 50%;}#sk-container-id-1 div.sk-parallel-item:last-child::after {align-self: flex-start;width: 50%;}#sk-container-id-1 div.sk-parallel-item:only-child::after {width: 0;}#sk-container-id-1 div.sk-dashed-wrapped {border: 1px dashed gray;margin: 0 0.4em 0.5em 0.4em;box-sizing: border-box;padding-bottom: 0.4em;background-color: white;}#sk-container-id-1 div.sk-label label {font-family: monospace;font-weight: bold;display: inline-block;line-height: 1.2em;}#sk-container-id-1 div.sk-label-container {text-align: center;}#sk-container-id-1 div.sk-container {/* jupyter's `normalize.less` sets `[hidden] { display: none; }` but bootstrap.min.css set `[hidden] { display: none !important; }` so we also need the `!important` here to be able to override the default hidden behavior on the sphinx rendered scikit-learn.org. See: https://github.com/scikit-learn/scikit-learn/issues/21755 */display: inline-block !important;position: relative;}#sk-container-id-1 div.sk-text-repr-fallback {display: none;}</style><div id=\"sk-container-id-1\" class=\"sk-top-container\"><div class=\"sk-text-repr-fallback\"><pre>LogisticRegression()</pre><b>In a Jupyter environment, please rerun this cell to show the HTML representation or trust the notebook. <br />On GitHub, the HTML representation is unable to render, please try loading this page with nbviewer.org.</b></div><div class=\"sk-container\" hidden><div class=\"sk-item\"><div class=\"sk-estimator sk-toggleable\"><input class=\"sk-toggleable__control sk-hidden--visually\" id=\"sk-estimator-id-1\" type=\"checkbox\" checked><label for=\"sk-estimator-id-1\" class=\"sk-toggleable__label sk-toggleable__label-arrow\">LogisticRegression</label><div class=\"sk-toggleable__content\"><pre>LogisticRegression()</pre></div></div></div></div></div>"
      ],
      "text/plain": [
       "LogisticRegression()"
      ]
     },
     "execution_count": 33,
     "metadata": {},
     "output_type": "execute_result"
    }
   ],
   "source": [
    "from sklearn.linear_model import LogisticRegression\n",
    "lr=LogisticRegression()\n",
    "lr"
   ]
  },
  {
   "cell_type": "code",
   "execution_count": 34,
   "metadata": {
    "colab": {
     "base_uri": "https://localhost:8080/"
    },
    "id": "Y7Nc4wCO5CSF",
    "outputId": "d1f4a818-14a6-40a7-9a09-4367db0fc347"
   },
   "outputs": [
    {
     "data": {
      "text/html": [
       "<style>#sk-container-id-2 {color: black;background-color: white;}#sk-container-id-2 pre{padding: 0;}#sk-container-id-2 div.sk-toggleable {background-color: white;}#sk-container-id-2 label.sk-toggleable__label {cursor: pointer;display: block;width: 100%;margin-bottom: 0;padding: 0.3em;box-sizing: border-box;text-align: center;}#sk-container-id-2 label.sk-toggleable__label-arrow:before {content: \"▸\";float: left;margin-right: 0.25em;color: #696969;}#sk-container-id-2 label.sk-toggleable__label-arrow:hover:before {color: black;}#sk-container-id-2 div.sk-estimator:hover label.sk-toggleable__label-arrow:before {color: black;}#sk-container-id-2 div.sk-toggleable__content {max-height: 0;max-width: 0;overflow: hidden;text-align: left;background-color: #f0f8ff;}#sk-container-id-2 div.sk-toggleable__content pre {margin: 0.2em;color: black;border-radius: 0.25em;background-color: #f0f8ff;}#sk-container-id-2 input.sk-toggleable__control:checked~div.sk-toggleable__content {max-height: 200px;max-width: 100%;overflow: auto;}#sk-container-id-2 input.sk-toggleable__control:checked~label.sk-toggleable__label-arrow:before {content: \"▾\";}#sk-container-id-2 div.sk-estimator input.sk-toggleable__control:checked~label.sk-toggleable__label {background-color: #d4ebff;}#sk-container-id-2 div.sk-label input.sk-toggleable__control:checked~label.sk-toggleable__label {background-color: #d4ebff;}#sk-container-id-2 input.sk-hidden--visually {border: 0;clip: rect(1px 1px 1px 1px);clip: rect(1px, 1px, 1px, 1px);height: 1px;margin: -1px;overflow: hidden;padding: 0;position: absolute;width: 1px;}#sk-container-id-2 div.sk-estimator {font-family: monospace;background-color: #f0f8ff;border: 1px dotted black;border-radius: 0.25em;box-sizing: border-box;margin-bottom: 0.5em;}#sk-container-id-2 div.sk-estimator:hover {background-color: #d4ebff;}#sk-container-id-2 div.sk-parallel-item::after {content: \"\";width: 100%;border-bottom: 1px solid gray;flex-grow: 1;}#sk-container-id-2 div.sk-label:hover label.sk-toggleable__label {background-color: #d4ebff;}#sk-container-id-2 div.sk-serial::before {content: \"\";position: absolute;border-left: 1px solid gray;box-sizing: border-box;top: 0;bottom: 0;left: 50%;z-index: 0;}#sk-container-id-2 div.sk-serial {display: flex;flex-direction: column;align-items: center;background-color: white;padding-right: 0.2em;padding-left: 0.2em;position: relative;}#sk-container-id-2 div.sk-item {position: relative;z-index: 1;}#sk-container-id-2 div.sk-parallel {display: flex;align-items: stretch;justify-content: center;background-color: white;position: relative;}#sk-container-id-2 div.sk-item::before, #sk-container-id-2 div.sk-parallel-item::before {content: \"\";position: absolute;border-left: 1px solid gray;box-sizing: border-box;top: 0;bottom: 0;left: 50%;z-index: -1;}#sk-container-id-2 div.sk-parallel-item {display: flex;flex-direction: column;z-index: 1;position: relative;background-color: white;}#sk-container-id-2 div.sk-parallel-item:first-child::after {align-self: flex-end;width: 50%;}#sk-container-id-2 div.sk-parallel-item:last-child::after {align-self: flex-start;width: 50%;}#sk-container-id-2 div.sk-parallel-item:only-child::after {width: 0;}#sk-container-id-2 div.sk-dashed-wrapped {border: 1px dashed gray;margin: 0 0.4em 0.5em 0.4em;box-sizing: border-box;padding-bottom: 0.4em;background-color: white;}#sk-container-id-2 div.sk-label label {font-family: monospace;font-weight: bold;display: inline-block;line-height: 1.2em;}#sk-container-id-2 div.sk-label-container {text-align: center;}#sk-container-id-2 div.sk-container {/* jupyter's `normalize.less` sets `[hidden] { display: none; }` but bootstrap.min.css set `[hidden] { display: none !important; }` so we also need the `!important` here to be able to override the default hidden behavior on the sphinx rendered scikit-learn.org. See: https://github.com/scikit-learn/scikit-learn/issues/21755 */display: inline-block !important;position: relative;}#sk-container-id-2 div.sk-text-repr-fallback {display: none;}</style><div id=\"sk-container-id-2\" class=\"sk-top-container\"><div class=\"sk-text-repr-fallback\"><pre>LogisticRegression()</pre><b>In a Jupyter environment, please rerun this cell to show the HTML representation or trust the notebook. <br />On GitHub, the HTML representation is unable to render, please try loading this page with nbviewer.org.</b></div><div class=\"sk-container\" hidden><div class=\"sk-item\"><div class=\"sk-estimator sk-toggleable\"><input class=\"sk-toggleable__control sk-hidden--visually\" id=\"sk-estimator-id-2\" type=\"checkbox\" checked><label for=\"sk-estimator-id-2\" class=\"sk-toggleable__label sk-toggleable__label-arrow\">LogisticRegression</label><div class=\"sk-toggleable__content\"><pre>LogisticRegression()</pre></div></div></div></div></div>"
      ],
      "text/plain": [
       "LogisticRegression()"
      ]
     },
     "execution_count": 34,
     "metadata": {},
     "output_type": "execute_result"
    }
   ],
   "source": [
    "lr=LogisticRegression()\n",
    "lr.fit(x_train_ros,y_train_ros)"
   ]
  },
  {
   "cell_type": "code",
   "execution_count": 35,
   "metadata": {
    "id": "ghblEVln5Vge"
   },
   "outputs": [],
   "source": [
    "y_pred_ros=lr.predict(x_test_ros)"
   ]
  },
  {
   "cell_type": "code",
   "execution_count": 36,
   "metadata": {
    "colab": {
     "base_uri": "https://localhost:8080/"
    },
    "id": "P2Amr_QV5cY8",
    "outputId": "d9bbc18d-c034-424a-f2ad-8dcf36d5c642"
   },
   "outputs": [
    {
     "data": {
      "text/plain": [
       "0.7616963985190172"
      ]
     },
     "execution_count": 36,
     "metadata": {},
     "output_type": "execute_result"
    }
   ],
   "source": [
    "lr.score(x_test_ros,y_test_ros)"
   ]
  },
  {
   "cell_type": "code",
   "execution_count": 37,
   "metadata": {},
   "outputs": [],
   "source": [
    "from sklearn.metrics import classification_report\n",
    "from sklearn.metrics import confusion_matrix\n"
   ]
  },
  {
   "cell_type": "code",
   "execution_count": 38,
   "metadata": {
    "colab": {
     "base_uri": "https://localhost:8080/"
    },
    "id": "sLcDkiGC5kmB",
    "outputId": "ede99ec6-7b87-411c-9e9d-57c5d38072cd"
   },
   "outputs": [
    {
     "name": "stdout",
     "output_type": "stream",
     "text": [
      "              precision    recall  f1-score   support\n",
      "\n",
      "           0       0.76      0.77      0.76      2971\n",
      "           1       0.77      0.75      0.76      2971\n",
      "\n",
      "    accuracy                           0.76      5942\n",
      "   macro avg       0.76      0.76      0.76      5942\n",
      "weighted avg       0.76      0.76      0.76      5942\n",
      "\n"
     ]
    }
   ],
   "source": [
    "print(classification_report(y_test_ros,y_pred_ros))"
   ]
  },
  {
   "cell_type": "code",
   "execution_count": 39,
   "metadata": {
    "colab": {
     "base_uri": "https://localhost:8080/"
    },
    "id": "tKP5mjwv6A3G",
    "outputId": "52d0c976-cdca-4611-cfdf-8bb69ae69800"
   },
   "outputs": [
    {
     "name": "stdout",
     "output_type": "stream",
     "text": [
      "[[2293  678]\n",
      " [ 738 2233]]\n"
     ]
    }
   ],
   "source": [
    "print(confusion_matrix(y_test_ros,y_pred_ros))"
   ]
  },
  {
   "cell_type": "code",
   "execution_count": 40,
   "metadata": {
    "id": "cAMVb947ShU3"
   },
   "outputs": [],
   "source": [
    "def create_model(model):\n",
    "  model.fit(x_train,y_train)\n",
    "  y_pred=model.predict(x_test)\n",
    "  print(classification_report(y_test,y_pred))\n",
    "  print(confusion_matrix(y_test,y_pred))\n",
    "  return model"
   ]
  },
  {
   "cell_type": "code",
   "execution_count": 41,
   "metadata": {
    "colab": {
     "base_uri": "https://localhost:8080/"
    },
    "id": "iR5v32qPSDiD",
    "outputId": "575c8e0c-e67d-46bf-9522-d4efaf0a8e86"
   },
   "outputs": [
    {
     "name": "stdout",
     "output_type": "stream",
     "text": [
      "              precision    recall  f1-score   support\n",
      "\n",
      "           0       0.85      0.96      0.90      2971\n",
      "           1       0.49      0.18      0.26       627\n",
      "\n",
      "    accuracy                           0.82      3598\n",
      "   macro avg       0.67      0.57      0.58      3598\n",
      "weighted avg       0.79      0.82      0.79      3598\n",
      "\n",
      "[[2855  116]\n",
      " [ 514  113]]\n"
     ]
    }
   ],
   "source": [
    "from sklearn.linear_model import LogisticRegression\n",
    "lr=LogisticRegression()\n",
    "lr=create_model(lr)"
   ]
  },
  {
   "cell_type": "markdown",
   "metadata": {},
   "source": [
    "# Before equalizing the data Logistic Regression score was 81% which was too Low."
   ]
  },
  {
   "cell_type": "markdown",
   "metadata": {},
   "source": [
    "# After equalizing the data Logistic Regression score got to 81% which is low.\n"
   ]
  },
  {
   "cell_type": "markdown",
   "metadata": {},
   "source": [
    "# So we will apply to all the methods to see if we get more accurate results."
   ]
  },
  {
   "cell_type": "markdown",
   "metadata": {},
   "source": [
    "# Decision Tree Using Gini Index"
   ]
  },
  {
   "cell_type": "code",
   "execution_count": 42,
   "metadata": {
    "colab": {
     "base_uri": "https://localhost:8080/"
    },
    "id": "JItcUjA3SYPZ",
    "outputId": "736cbe0f-00fa-4b38-e3e1-e7bd975d1736"
   },
   "outputs": [
    {
     "name": "stdout",
     "output_type": "stream",
     "text": [
      "              precision    recall  f1-score   support\n",
      "\n",
      "           0       0.98      0.98      0.98      2971\n",
      "           1       0.89      0.93      0.91       627\n",
      "\n",
      "    accuracy                           0.97      3598\n",
      "   macro avg       0.94      0.95      0.94      3598\n",
      "weighted avg       0.97      0.97      0.97      3598\n",
      "\n",
      "[[2902   69]\n",
      " [  47  580]]\n"
     ]
    }
   ],
   "source": [
    "from sklearn.tree import DecisionTreeClassifier\n",
    "dct=DecisionTreeClassifier(random_state=1)\n",
    "dct=create_model(dct)\n"
   ]
  },
  {
   "cell_type": "markdown",
   "metadata": {},
   "source": [
    "# Information Gain/Important Features"
   ]
  },
  {
   "cell_type": "code",
   "execution_count": 43,
   "metadata": {
    "colab": {
     "base_uri": "https://localhost:8080/"
    },
    "id": "tClGLYIJzUV7",
    "outputId": "d0bd62a0-d3b4-4064-ec04-2778a251e527"
   },
   "outputs": [
    {
     "name": "stdout",
     "output_type": "stream",
     "text": [
      "[0.50737601 0.11484392 0.13594042 0.12242078 0.101508   0.0020528\n",
      " 0.         0.01233077 0.00352731]\n"
     ]
    }
   ],
   "source": [
    "ig=dct.feature_importances_\n",
    "print(ig)"
   ]
  },
  {
   "cell_type": "code",
   "execution_count": 44,
   "metadata": {
    "colab": {
     "base_uri": "https://localhost:8080/"
    },
    "id": "mlUl2e5wzb-a",
    "outputId": "9ccf13e9-7140-4a9f-c8cd-744d4b502af8"
   },
   "outputs": [
    {
     "data": {
      "text/plain": [
       "Index(['satisfaction_level', 'last_evaluation', 'number_project',\n",
       "       'average_montly_hours', 'time_spend_company', 'Work_accident',\n",
       "       'promotion_last_5years', 'sales', 'salary'],\n",
       "      dtype='object')"
      ]
     },
     "execution_count": 44,
     "metadata": {},
     "output_type": "execute_result"
    }
   ],
   "source": [
    "x.columns"
   ]
  },
  {
   "cell_type": "code",
   "execution_count": 45,
   "metadata": {
    "colab": {
     "base_uri": "https://localhost:8080/",
     "height": 332
    },
    "id": "4Wy3jHRrzf_s",
    "outputId": "11b2d2b0-581a-4f77-8712-e2b39351d80d"
   },
   "outputs": [
    {
     "data": {
      "text/html": [
       "<div>\n",
       "<style scoped>\n",
       "    .dataframe tbody tr th:only-of-type {\n",
       "        vertical-align: middle;\n",
       "    }\n",
       "\n",
       "    .dataframe tbody tr th {\n",
       "        vertical-align: top;\n",
       "    }\n",
       "\n",
       "    .dataframe thead th {\n",
       "        text-align: right;\n",
       "    }\n",
       "</style>\n",
       "<table border=\"1\" class=\"dataframe\">\n",
       "  <thead>\n",
       "    <tr style=\"text-align: right;\">\n",
       "      <th></th>\n",
       "      <th>Input</th>\n",
       "      <th>IG</th>\n",
       "    </tr>\n",
       "  </thead>\n",
       "  <tbody>\n",
       "    <tr>\n",
       "      <th>0</th>\n",
       "      <td>satisfaction_level</td>\n",
       "      <td>0.507376</td>\n",
       "    </tr>\n",
       "    <tr>\n",
       "      <th>2</th>\n",
       "      <td>number_project</td>\n",
       "      <td>0.135940</td>\n",
       "    </tr>\n",
       "    <tr>\n",
       "      <th>3</th>\n",
       "      <td>average_montly_hours</td>\n",
       "      <td>0.122421</td>\n",
       "    </tr>\n",
       "    <tr>\n",
       "      <th>1</th>\n",
       "      <td>last_evaluation</td>\n",
       "      <td>0.114844</td>\n",
       "    </tr>\n",
       "    <tr>\n",
       "      <th>4</th>\n",
       "      <td>time_spend_company</td>\n",
       "      <td>0.101508</td>\n",
       "    </tr>\n",
       "    <tr>\n",
       "      <th>7</th>\n",
       "      <td>sales</td>\n",
       "      <td>0.012331</td>\n",
       "    </tr>\n",
       "    <tr>\n",
       "      <th>8</th>\n",
       "      <td>salary</td>\n",
       "      <td>0.003527</td>\n",
       "    </tr>\n",
       "    <tr>\n",
       "      <th>5</th>\n",
       "      <td>Work_accident</td>\n",
       "      <td>0.002053</td>\n",
       "    </tr>\n",
       "    <tr>\n",
       "      <th>6</th>\n",
       "      <td>promotion_last_5years</td>\n",
       "      <td>0.000000</td>\n",
       "    </tr>\n",
       "  </tbody>\n",
       "</table>\n",
       "</div>"
      ],
      "text/plain": [
       "                   Input        IG\n",
       "0     satisfaction_level  0.507376\n",
       "2         number_project  0.135940\n",
       "3   average_montly_hours  0.122421\n",
       "1        last_evaluation  0.114844\n",
       "4     time_spend_company  0.101508\n",
       "7                  sales  0.012331\n",
       "8                 salary  0.003527\n",
       "5          Work_accident  0.002053\n",
       "6  promotion_last_5years  0.000000"
      ]
     },
     "execution_count": 45,
     "metadata": {},
     "output_type": "execute_result"
    }
   ],
   "source": [
    "dct={'Input':x.columns,'IG':ig}\n",
    "df=pd.DataFrame(dct)\n",
    "df.sort_values('IG',ascending=False)"
   ]
  },
  {
   "cell_type": "markdown",
   "metadata": {},
   "source": [
    "# Pruining Technique (Decision Tree max_depth)"
   ]
  },
  {
   "cell_type": "code",
   "execution_count": 46,
   "metadata": {
    "colab": {
     "base_uri": "https://localhost:8080/"
    },
    "id": "HRn7tp5CX-jT",
    "outputId": "4ea9f76e-3cae-4e6b-de5d-d902768233f9"
   },
   "outputs": [
    {
     "name": "stdout",
     "output_type": "stream",
     "text": [
      "              precision    recall  f1-score   support\n",
      "\n",
      "           0       0.98      0.96      0.97      2971\n",
      "           1       0.84      0.93      0.88       627\n",
      "\n",
      "    accuracy                           0.96      3598\n",
      "   macro avg       0.91      0.95      0.93      3598\n",
      "weighted avg       0.96      0.96      0.96      3598\n",
      "\n",
      "[[2863  108]\n",
      " [  46  581]]\n"
     ]
    }
   ],
   "source": [
    "#pruning technique\n",
    "dct1=DecisionTreeClassifier(random_state=1,max_depth=3)\n",
    "dct1=create_model(dct1)\n"
   ]
  },
  {
   "cell_type": "markdown",
   "metadata": {},
   "source": [
    "# 2nd pruning technique(min_samples_leaf)"
   ]
  },
  {
   "cell_type": "code",
   "execution_count": 47,
   "metadata": {
    "colab": {
     "base_uri": "https://localhost:8080/"
    },
    "id": "2pw5m2aK0Fol",
    "outputId": "586b7a8d-654e-4e9b-8594-0c0935486171"
   },
   "outputs": [
    {
     "name": "stdout",
     "output_type": "stream",
     "text": [
      "              precision    recall  f1-score   support\n",
      "\n",
      "           0       0.98      0.98      0.98      2971\n",
      "           1       0.91      0.91      0.91       627\n",
      "\n",
      "    accuracy                           0.97      3598\n",
      "   macro avg       0.95      0.95      0.95      3598\n",
      "weighted avg       0.97      0.97      0.97      3598\n",
      "\n",
      "[[2914   57]\n",
      " [  54  573]]\n"
     ]
    }
   ],
   "source": [
    "#2nd pruning technique\n",
    "dct2=DecisionTreeClassifier(random_state=1,min_samples_leaf=45)\n",
    "dct2=create_model(dct2)"
   ]
  },
  {
   "cell_type": "markdown",
   "metadata": {},
   "source": [
    "# *Decision Tree Using Entropy"
   ]
  },
  {
   "cell_type": "code",
   "execution_count": 48,
   "metadata": {},
   "outputs": [
    {
     "name": "stdout",
     "output_type": "stream",
     "text": [
      "              precision    recall  f1-score   support\n",
      "\n",
      "           0       0.98      0.98      0.98      2971\n",
      "           1       0.92      0.92      0.92       627\n",
      "\n",
      "    accuracy                           0.97      3598\n",
      "   macro avg       0.95      0.95      0.95      3598\n",
      "weighted avg       0.97      0.97      0.97      3598\n",
      "\n",
      "[[2921   50]\n",
      " [  49  578]]\n"
     ]
    }
   ],
   "source": [
    "dct=DecisionTreeClassifier(random_state=1,criterion='entropy')\n",
    "dct=create_model(dct)"
   ]
  },
  {
   "cell_type": "markdown",
   "metadata": {},
   "source": [
    "# *Decision Tree Using Entropy(max_depth)"
   ]
  },
  {
   "cell_type": "code",
   "execution_count": 49,
   "metadata": {},
   "outputs": [
    {
     "name": "stdout",
     "output_type": "stream",
     "text": [
      "              precision    recall  f1-score   support\n",
      "\n",
      "           0       0.98      0.95      0.97      2971\n",
      "           1       0.81      0.93      0.87       627\n",
      "\n",
      "    accuracy                           0.95      3598\n",
      "   macro avg       0.90      0.94      0.92      3598\n",
      "weighted avg       0.95      0.95      0.95      3598\n",
      "\n",
      "[[2837  134]\n",
      " [  46  581]]\n"
     ]
    }
   ],
   "source": [
    "dct1=DecisionTreeClassifier(random_state=1,criterion='entropy',max_depth=3)\n",
    "dct1=create_model(dct1)"
   ]
  },
  {
   "cell_type": "markdown",
   "metadata": {},
   "source": [
    "# *Decision Tree Using Entropy(min_samples_leaf)"
   ]
  },
  {
   "cell_type": "code",
   "execution_count": 50,
   "metadata": {},
   "outputs": [
    {
     "name": "stdout",
     "output_type": "stream",
     "text": [
      "              precision    recall  f1-score   support\n",
      "\n",
      "           0       0.98      0.98      0.98      2971\n",
      "           1       0.92      0.92      0.92       627\n",
      "\n",
      "    accuracy                           0.97      3598\n",
      "   macro avg       0.95      0.95      0.95      3598\n",
      "weighted avg       0.97      0.97      0.97      3598\n",
      "\n",
      "[[2921   50]\n",
      " [  49  578]]\n"
     ]
    }
   ],
   "source": [
    "dct1=DecisionTreeClassifier(random_state=1,criterion='entropy',min_samples_leaf=1)\n",
    "dct1=create_model(dct1)"
   ]
  },
  {
   "cell_type": "markdown",
   "metadata": {},
   "source": [
    "# Visualize Tree Diagram"
   ]
  },
  {
   "cell_type": "code",
   "execution_count": 51,
   "metadata": {},
   "outputs": [
    {
     "data": {
      "image/png": "[encoded data removed]",
      "text/plain": [
       "<Figure size 1440x1440 with 1 Axes>"
      ]
     },
     "metadata": {
      "needs_background": "light"
     },
     "output_type": "display_data"
    }
   ],
   "source": [
    "from sklearn import tree\n",
    "fig=plt.figure(figsize=(20,20))\n",
    "feature=x.columns\n",
    "_=tree.plot_tree(dct1,filled=True,feature_names=feature)\n",
    "plt.show()"
   ]
  },
  {
   "cell_type": "markdown",
   "metadata": {},
   "source": [
    "# *RandomForestClassifier using Gini Index*"
   ]
  },
  {
   "cell_type": "code",
   "execution_count": 52,
   "metadata": {},
   "outputs": [
    {
     "name": "stdout",
     "output_type": "stream",
     "text": [
      "              precision    recall  f1-score   support\n",
      "\n",
      "           0       0.99      1.00      0.99      2971\n",
      "           1       0.99      0.93      0.96       627\n",
      "\n",
      "    accuracy                           0.99      3598\n",
      "   macro avg       0.99      0.96      0.97      3598\n",
      "weighted avg       0.99      0.99      0.99      3598\n",
      "\n",
      "[[2964    7]\n",
      " [  45  582]]\n"
     ]
    }
   ],
   "source": [
    "from sklearn.ensemble import RandomForestClassifier\n",
    "rfc=RandomForestClassifier(n_estimators=100,max_features=5,random_state=1)\n",
    "rfc=create_model(rfc)"
   ]
  },
  {
   "cell_type": "markdown",
   "metadata": {},
   "source": [
    "# RandomForestClassifier using Entropy"
   ]
  },
  {
   "cell_type": "code",
   "execution_count": 53,
   "metadata": {},
   "outputs": [
    {
     "name": "stdout",
     "output_type": "stream",
     "text": [
      "              precision    recall  f1-score   support\n",
      "\n",
      "           0       0.99      1.00      0.99      2971\n",
      "           1       0.99      0.93      0.96       627\n",
      "\n",
      "    accuracy                           0.99      3598\n",
      "   macro avg       0.99      0.96      0.97      3598\n",
      "weighted avg       0.99      0.99      0.99      3598\n",
      "\n",
      "[[2963    8]\n",
      " [  45  582]]\n"
     ]
    }
   ],
   "source": [
    "rfc1=RandomForestClassifier(criterion='entropy',n_estimators=100,max_features=5,random_state=1)\n",
    "rfc1=create_model(rfc1)"
   ]
  },
  {
   "cell_type": "markdown",
   "metadata": {},
   "source": [
    "# ADA Boosting ( Adaptor Boosting )"
   ]
  },
  {
   "cell_type": "code",
   "execution_count": 54,
   "metadata": {},
   "outputs": [
    {
     "name": "stdout",
     "output_type": "stream",
     "text": [
      "              precision    recall  f1-score   support\n",
      "\n",
      "           0       0.97      0.98      0.98      2971\n",
      "           1       0.92      0.88      0.90       627\n",
      "\n",
      "    accuracy                           0.96      3598\n",
      "   macro avg       0.94      0.93      0.94      3598\n",
      "weighted avg       0.96      0.96      0.96      3598\n",
      "\n",
      "[[2920   51]\n",
      " [  77  550]]\n"
     ]
    }
   ],
   "source": [
    "from sklearn.ensemble import AdaBoostClassifier\n",
    "abc=AdaBoostClassifier(n_estimators=50,random_state=1)\n",
    "abc=create_model(abc)"
   ]
  },
  {
   "cell_type": "markdown",
   "metadata": {},
   "source": [
    "# *GradientBoosting*"
   ]
  },
  {
   "cell_type": "code",
   "execution_count": 55,
   "metadata": {},
   "outputs": [
    {
     "name": "stdout",
     "output_type": "stream",
     "text": [
      "              precision    recall  f1-score   support\n",
      "\n",
      "           0       0.98      0.99      0.99      2971\n",
      "           1       0.93      0.93      0.93       627\n",
      "\n",
      "    accuracy                           0.98      3598\n",
      "   macro avg       0.96      0.96      0.96      3598\n",
      "weighted avg       0.98      0.98      0.98      3598\n",
      "\n",
      "[[2929   42]\n",
      " [  46  581]]\n"
     ]
    }
   ],
   "source": [
    "from sklearn.ensemble import GradientBoostingClassifier\n",
    "gbc=GradientBoostingClassifier(n_estimators=50,random_state=1)\n",
    "gbc=create_model(gbc)"
   ]
  },
  {
   "cell_type": "markdown",
   "metadata": {},
   "source": [
    "# *Xtreme Gradient Boost*"
   ]
  },
  {
   "cell_type": "code",
   "execution_count": 56,
   "metadata": {
    "colab": {
     "base_uri": "https://localhost:8080/"
    },
    "id": "DulyP0ofVjzH",
    "outputId": "8eca0b12-e608-4120-d09b-4e4f99a9ff17"
   },
   "outputs": [
    {
     "name": "stdout",
     "output_type": "stream",
     "text": [
      "no of estimators: 1\n",
      "              precision    recall  f1-score   support\n",
      "\n",
      "           0       0.98      0.99      0.99      2971\n",
      "           1       0.97      0.93      0.95       627\n",
      "\n",
      "    accuracy                           0.98      3598\n",
      "   macro avg       0.98      0.96      0.97      3598\n",
      "weighted avg       0.98      0.98      0.98      3598\n",
      "\n",
      "[[2950   21]\n",
      " [  45  582]]\n",
      "no of estimators: 2\n",
      "              precision    recall  f1-score   support\n",
      "\n",
      "           0       0.98      0.99      0.99      2971\n",
      "           1       0.97      0.93      0.95       627\n",
      "\n",
      "    accuracy                           0.98      3598\n",
      "   macro avg       0.98      0.96      0.97      3598\n",
      "weighted avg       0.98      0.98      0.98      3598\n",
      "\n",
      "[[2950   21]\n",
      " [  45  582]]\n",
      "no of estimators: 3\n",
      "              precision    recall  f1-score   support\n",
      "\n",
      "           0       0.98      0.99      0.99      2971\n",
      "           1       0.96      0.93      0.95       627\n",
      "\n",
      "    accuracy                           0.98      3598\n",
      "   macro avg       0.97      0.96      0.97      3598\n",
      "weighted avg       0.98      0.98      0.98      3598\n",
      "\n",
      "[[2949   22]\n",
      " [  45  582]]\n",
      "no of estimators: 4\n",
      "              precision    recall  f1-score   support\n",
      "\n",
      "           0       0.98      0.99      0.99      2971\n",
      "           1       0.96      0.93      0.95       627\n",
      "\n",
      "    accuracy                           0.98      3598\n",
      "   macro avg       0.97      0.96      0.97      3598\n",
      "weighted avg       0.98      0.98      0.98      3598\n",
      "\n",
      "[[2949   22]\n",
      " [  45  582]]\n",
      "no of estimators: 5\n",
      "              precision    recall  f1-score   support\n",
      "\n",
      "           0       0.98      0.99      0.99      2971\n",
      "           1       0.97      0.93      0.95       627\n",
      "\n",
      "    accuracy                           0.98      3598\n",
      "   macro avg       0.98      0.96      0.97      3598\n",
      "weighted avg       0.98      0.98      0.98      3598\n",
      "\n",
      "[[2951   20]\n",
      " [  45  582]]\n",
      "no of estimators: 6\n",
      "              precision    recall  f1-score   support\n",
      "\n",
      "           0       0.98      0.99      0.99      2971\n",
      "           1       0.97      0.93      0.95       627\n",
      "\n",
      "    accuracy                           0.98      3598\n",
      "   macro avg       0.98      0.96      0.97      3598\n",
      "weighted avg       0.98      0.98      0.98      3598\n",
      "\n",
      "[[2951   20]\n",
      " [  45  582]]\n",
      "no of estimators: 7\n",
      "              precision    recall  f1-score   support\n",
      "\n",
      "           0       0.98      0.99      0.99      2971\n",
      "           1       0.97      0.92      0.95       627\n",
      "\n",
      "    accuracy                           0.98      3598\n",
      "   macro avg       0.98      0.96      0.97      3598\n",
      "weighted avg       0.98      0.98      0.98      3598\n",
      "\n",
      "[[2952   19]\n",
      " [  48  579]]\n",
      "no of estimators: 8\n",
      "              precision    recall  f1-score   support\n",
      "\n",
      "           0       0.98      0.99      0.99      2971\n",
      "           1       0.97      0.92      0.95       627\n",
      "\n",
      "    accuracy                           0.98      3598\n",
      "   macro avg       0.98      0.96      0.97      3598\n",
      "weighted avg       0.98      0.98      0.98      3598\n",
      "\n",
      "[[2952   19]\n",
      " [  48  579]]\n",
      "no of estimators: 9\n",
      "              precision    recall  f1-score   support\n",
      "\n",
      "           0       0.98      0.99      0.99      2971\n",
      "           1       0.97      0.92      0.95       627\n",
      "\n",
      "    accuracy                           0.98      3598\n",
      "   macro avg       0.98      0.96      0.97      3598\n",
      "weighted avg       0.98      0.98      0.98      3598\n",
      "\n",
      "[[2952   19]\n",
      " [  48  579]]\n",
      "no of estimators: 10\n",
      "              precision    recall  f1-score   support\n",
      "\n",
      "           0       0.98      1.00      0.99      2971\n",
      "           1       0.98      0.93      0.95       627\n",
      "\n",
      "    accuracy                           0.98      3598\n",
      "   macro avg       0.98      0.96      0.97      3598\n",
      "weighted avg       0.98      0.98      0.98      3598\n",
      "\n",
      "[[2957   14]\n",
      " [  47  580]]\n",
      "no of estimators: 11\n",
      "              precision    recall  f1-score   support\n",
      "\n",
      "           0       0.98      1.00      0.99      2971\n",
      "           1       0.98      0.93      0.95       627\n",
      "\n",
      "    accuracy                           0.98      3598\n",
      "   macro avg       0.98      0.96      0.97      3598\n",
      "weighted avg       0.98      0.98      0.98      3598\n",
      "\n",
      "[[2959   12]\n",
      " [  46  581]]\n",
      "no of estimators: 12\n",
      "              precision    recall  f1-score   support\n",
      "\n",
      "           0       0.98      1.00      0.99      2971\n",
      "           1       0.98      0.93      0.95       627\n",
      "\n",
      "    accuracy                           0.98      3598\n",
      "   macro avg       0.98      0.96      0.97      3598\n",
      "weighted avg       0.98      0.98      0.98      3598\n",
      "\n",
      "[[2959   12]\n",
      " [  46  581]]\n",
      "no of estimators: 13\n",
      "              precision    recall  f1-score   support\n",
      "\n",
      "           0       0.98      1.00      0.99      2971\n",
      "           1       0.98      0.93      0.95       627\n",
      "\n",
      "    accuracy                           0.98      3598\n",
      "   macro avg       0.98      0.96      0.97      3598\n",
      "weighted avg       0.98      0.98      0.98      3598\n",
      "\n",
      "[[2958   13]\n",
      " [  47  580]]\n",
      "no of estimators: 14\n",
      "              precision    recall  f1-score   support\n",
      "\n",
      "           0       0.99      1.00      0.99      2971\n",
      "           1       0.98      0.93      0.95       627\n",
      "\n",
      "    accuracy                           0.98      3598\n",
      "   macro avg       0.98      0.96      0.97      3598\n",
      "weighted avg       0.98      0.98      0.98      3598\n",
      "\n",
      "[[2958   13]\n",
      " [  45  582]]\n",
      "no of estimators: 15\n",
      "              precision    recall  f1-score   support\n",
      "\n",
      "           0       0.99      1.00      0.99      2971\n",
      "           1       0.98      0.93      0.95       627\n",
      "\n",
      "    accuracy                           0.98      3598\n",
      "   macro avg       0.98      0.96      0.97      3598\n",
      "weighted avg       0.98      0.98      0.98      3598\n",
      "\n",
      "[[2960   11]\n",
      " [  45  582]]\n",
      "no of estimators: 16\n",
      "              precision    recall  f1-score   support\n",
      "\n",
      "           0       0.99      1.00      0.99      2971\n",
      "           1       0.98      0.93      0.95       627\n",
      "\n",
      "    accuracy                           0.98      3598\n",
      "   macro avg       0.98      0.96      0.97      3598\n",
      "weighted avg       0.98      0.98      0.98      3598\n",
      "\n",
      "[[2959   12]\n",
      " [  45  582]]\n",
      "no of estimators: 17\n",
      "              precision    recall  f1-score   support\n",
      "\n",
      "           0       0.99      1.00      0.99      2971\n",
      "           1       0.98      0.93      0.95       627\n",
      "\n",
      "    accuracy                           0.98      3598\n",
      "   macro avg       0.98      0.96      0.97      3598\n",
      "weighted avg       0.98      0.98      0.98      3598\n",
      "\n",
      "[[2960   11]\n",
      " [  44  583]]\n",
      "no of estimators: 18\n",
      "              precision    recall  f1-score   support\n",
      "\n",
      "           0       0.99      1.00      0.99      2971\n",
      "           1       0.98      0.93      0.95       627\n",
      "\n",
      "    accuracy                           0.98      3598\n",
      "   macro avg       0.98      0.96      0.97      3598\n",
      "weighted avg       0.98      0.98      0.98      3598\n",
      "\n",
      "[[2960   11]\n",
      " [  44  583]]\n",
      "no of estimators: 19\n",
      "              precision    recall  f1-score   support\n",
      "\n",
      "           0       0.99      1.00      0.99      2971\n",
      "           1       0.98      0.93      0.95       627\n",
      "\n",
      "    accuracy                           0.98      3598\n",
      "   macro avg       0.98      0.96      0.97      3598\n",
      "weighted avg       0.98      0.98      0.98      3598\n",
      "\n",
      "[[2960   11]\n",
      " [  44  583]]\n",
      "no of estimators: 20\n",
      "              precision    recall  f1-score   support\n",
      "\n",
      "           0       0.99      1.00      0.99      2971\n",
      "           1       0.98      0.93      0.95       627\n",
      "\n",
      "    accuracy                           0.98      3598\n",
      "   macro avg       0.98      0.96      0.97      3598\n",
      "weighted avg       0.98      0.98      0.98      3598\n",
      "\n",
      "[[2960   11]\n",
      " [  44  583]]\n",
      "no of estimators: 21\n",
      "              precision    recall  f1-score   support\n",
      "\n",
      "           0       0.99      1.00      0.99      2971\n",
      "           1       0.98      0.93      0.95       627\n",
      "\n",
      "    accuracy                           0.98      3598\n",
      "   macro avg       0.98      0.96      0.97      3598\n",
      "weighted avg       0.98      0.98      0.98      3598\n",
      "\n",
      "[[2959   12]\n",
      " [  44  583]]\n",
      "no of estimators: 22\n",
      "              precision    recall  f1-score   support\n",
      "\n",
      "           0       0.99      1.00      0.99      2971\n",
      "           1       0.98      0.93      0.95       627\n",
      "\n",
      "    accuracy                           0.98      3598\n",
      "   macro avg       0.98      0.96      0.97      3598\n",
      "weighted avg       0.98      0.98      0.98      3598\n",
      "\n"
     ]
    },
    {
     "name": "stdout",
     "output_type": "stream",
     "text": [
      "[[2960   11]\n",
      " [  44  583]]\n",
      "no of estimators: 23\n",
      "              precision    recall  f1-score   support\n",
      "\n",
      "           0       0.99      1.00      0.99      2971\n",
      "           1       0.98      0.93      0.95       627\n",
      "\n",
      "    accuracy                           0.98      3598\n",
      "   macro avg       0.98      0.96      0.97      3598\n",
      "weighted avg       0.98      0.98      0.98      3598\n",
      "\n",
      "[[2960   11]\n",
      " [  44  583]]\n",
      "no of estimators: 24\n",
      "              precision    recall  f1-score   support\n",
      "\n",
      "           0       0.99      1.00      0.99      2971\n",
      "           1       0.98      0.93      0.95       627\n",
      "\n",
      "    accuracy                           0.98      3598\n",
      "   macro avg       0.98      0.96      0.97      3598\n",
      "weighted avg       0.98      0.98      0.98      3598\n",
      "\n",
      "[[2960   11]\n",
      " [  44  583]]\n",
      "no of estimators: 25\n",
      "              precision    recall  f1-score   support\n",
      "\n",
      "           0       0.99      1.00      0.99      2971\n",
      "           1       0.98      0.93      0.95       627\n",
      "\n",
      "    accuracy                           0.98      3598\n",
      "   macro avg       0.98      0.96      0.97      3598\n",
      "weighted avg       0.98      0.98      0.98      3598\n",
      "\n",
      "[[2960   11]\n",
      " [  44  583]]\n",
      "no of estimators: 26\n",
      "              precision    recall  f1-score   support\n",
      "\n",
      "           0       0.99      1.00      0.99      2971\n",
      "           1       0.98      0.93      0.96       627\n",
      "\n",
      "    accuracy                           0.98      3598\n",
      "   macro avg       0.98      0.96      0.97      3598\n",
      "weighted avg       0.98      0.98      0.98      3598\n",
      "\n",
      "[[2961   10]\n",
      " [  44  583]]\n",
      "no of estimators: 27\n",
      "              precision    recall  f1-score   support\n",
      "\n",
      "           0       0.99      1.00      0.99      2971\n",
      "           1       0.98      0.93      0.95       627\n",
      "\n",
      "    accuracy                           0.98      3598\n",
      "   macro avg       0.98      0.96      0.97      3598\n",
      "weighted avg       0.98      0.98      0.98      3598\n",
      "\n",
      "[[2959   12]\n",
      " [  44  583]]\n",
      "no of estimators: 28\n",
      "              precision    recall  f1-score   support\n",
      "\n",
      "           0       0.99      1.00      0.99      2971\n",
      "           1       0.98      0.93      0.95       627\n",
      "\n",
      "    accuracy                           0.98      3598\n",
      "   macro avg       0.98      0.96      0.97      3598\n",
      "weighted avg       0.98      0.98      0.98      3598\n",
      "\n",
      "[[2959   12]\n",
      " [  44  583]]\n",
      "no of estimators: 29\n",
      "              precision    recall  f1-score   support\n",
      "\n",
      "           0       0.99      1.00      0.99      2971\n",
      "           1       0.98      0.93      0.95       627\n",
      "\n",
      "    accuracy                           0.98      3598\n",
      "   macro avg       0.98      0.96      0.97      3598\n",
      "weighted avg       0.98      0.98      0.98      3598\n",
      "\n",
      "[[2960   11]\n",
      " [  44  583]]\n",
      "no of estimators: 30\n",
      "              precision    recall  f1-score   support\n",
      "\n",
      "           0       0.99      1.00      0.99      2971\n",
      "           1       0.98      0.93      0.95       627\n",
      "\n",
      "    accuracy                           0.98      3598\n",
      "   macro avg       0.98      0.96      0.97      3598\n",
      "weighted avg       0.98      0.98      0.98      3598\n",
      "\n",
      "[[2960   11]\n",
      " [  44  583]]\n",
      "no of estimators: 31\n",
      "              precision    recall  f1-score   support\n",
      "\n",
      "           0       0.99      1.00      0.99      2971\n",
      "           1       0.98      0.93      0.95       627\n",
      "\n",
      "    accuracy                           0.98      3598\n",
      "   macro avg       0.98      0.96      0.97      3598\n",
      "weighted avg       0.98      0.98      0.98      3598\n",
      "\n",
      "[[2959   12]\n",
      " [  44  583]]\n",
      "no of estimators: 32\n",
      "              precision    recall  f1-score   support\n",
      "\n",
      "           0       0.99      1.00      0.99      2971\n",
      "           1       0.98      0.93      0.95       627\n",
      "\n",
      "    accuracy                           0.98      3598\n",
      "   macro avg       0.98      0.96      0.97      3598\n",
      "weighted avg       0.98      0.98      0.98      3598\n",
      "\n",
      "[[2958   13]\n",
      " [  44  583]]\n",
      "no of estimators: 33\n",
      "              precision    recall  f1-score   support\n",
      "\n",
      "           0       0.99      1.00      0.99      2971\n",
      "           1       0.98      0.93      0.95       627\n",
      "\n",
      "    accuracy                           0.98      3598\n",
      "   macro avg       0.98      0.96      0.97      3598\n",
      "weighted avg       0.98      0.98      0.98      3598\n",
      "\n",
      "[[2957   14]\n",
      " [  44  583]]\n",
      "no of estimators: 34\n",
      "              precision    recall  f1-score   support\n",
      "\n",
      "           0       0.99      1.00      0.99      2971\n",
      "           1       0.98      0.93      0.95       627\n",
      "\n",
      "    accuracy                           0.98      3598\n",
      "   macro avg       0.98      0.96      0.97      3598\n",
      "weighted avg       0.98      0.98      0.98      3598\n",
      "\n",
      "[[2957   14]\n",
      " [  44  583]]\n",
      "no of estimators: 35\n",
      "              precision    recall  f1-score   support\n",
      "\n",
      "           0       0.99      1.00      0.99      2971\n",
      "           1       0.98      0.93      0.95       627\n",
      "\n",
      "    accuracy                           0.98      3598\n",
      "   macro avg       0.98      0.96      0.97      3598\n",
      "weighted avg       0.98      0.98      0.98      3598\n",
      "\n",
      "[[2957   14]\n",
      " [  44  583]]\n",
      "no of estimators: 36\n",
      "              precision    recall  f1-score   support\n",
      "\n",
      "           0       0.99      0.99      0.99      2971\n",
      "           1       0.97      0.93      0.95       627\n",
      "\n",
      "    accuracy                           0.98      3598\n",
      "   macro avg       0.98      0.96      0.97      3598\n",
      "weighted avg       0.98      0.98      0.98      3598\n",
      "\n",
      "[[2956   15]\n",
      " [  44  583]]\n",
      "no of estimators: 37\n",
      "              precision    recall  f1-score   support\n",
      "\n",
      "           0       0.99      0.99      0.99      2971\n",
      "           1       0.97      0.93      0.95       627\n",
      "\n",
      "    accuracy                           0.98      3598\n",
      "   macro avg       0.98      0.96      0.97      3598\n",
      "weighted avg       0.98      0.98      0.98      3598\n",
      "\n",
      "[[2955   16]\n",
      " [  44  583]]\n",
      "no of estimators: 38\n",
      "              precision    recall  f1-score   support\n",
      "\n",
      "           0       0.99      0.99      0.99      2971\n",
      "           1       0.97      0.93      0.95       627\n",
      "\n",
      "    accuracy                           0.98      3598\n",
      "   macro avg       0.98      0.96      0.97      3598\n",
      "weighted avg       0.98      0.98      0.98      3598\n",
      "\n",
      "[[2955   16]\n",
      " [  44  583]]\n",
      "no of estimators: 39\n",
      "              precision    recall  f1-score   support\n",
      "\n",
      "           0       0.99      0.99      0.99      2971\n",
      "           1       0.97      0.93      0.95       627\n",
      "\n",
      "    accuracy                           0.98      3598\n",
      "   macro avg       0.98      0.96      0.97      3598\n",
      "weighted avg       0.98      0.98      0.98      3598\n",
      "\n",
      "[[2956   15]\n",
      " [  44  583]]\n",
      "no of estimators: 40\n",
      "              precision    recall  f1-score   support\n",
      "\n",
      "           0       0.99      0.99      0.99      2971\n",
      "           1       0.97      0.93      0.95       627\n",
      "\n",
      "    accuracy                           0.98      3598\n",
      "   macro avg       0.98      0.96      0.97      3598\n",
      "weighted avg       0.98      0.98      0.98      3598\n",
      "\n",
      "[[2956   15]\n",
      " [  44  583]]\n",
      "no of estimators: 41\n",
      "              precision    recall  f1-score   support\n",
      "\n",
      "           0       0.99      0.99      0.99      2971\n",
      "           1       0.97      0.93      0.95       627\n",
      "\n",
      "    accuracy                           0.98      3598\n",
      "   macro avg       0.98      0.96      0.97      3598\n",
      "weighted avg       0.98      0.98      0.98      3598\n",
      "\n",
      "[[2956   15]\n",
      " [  44  583]]\n",
      "no of estimators: 42\n",
      "              precision    recall  f1-score   support\n",
      "\n",
      "           0       0.99      0.99      0.99      2971\n",
      "           1       0.97      0.93      0.95       627\n",
      "\n",
      "    accuracy                           0.98      3598\n",
      "   macro avg       0.98      0.96      0.97      3598\n",
      "weighted avg       0.98      0.98      0.98      3598\n",
      "\n",
      "[[2956   15]\n",
      " [  44  583]]\n",
      "no of estimators: 43\n",
      "              precision    recall  f1-score   support\n",
      "\n",
      "           0       0.99      1.00      0.99      2971\n",
      "           1       0.98      0.93      0.95       627\n",
      "\n",
      "    accuracy                           0.98      3598\n",
      "   macro avg       0.98      0.96      0.97      3598\n",
      "weighted avg       0.98      0.98      0.98      3598\n",
      "\n",
      "[[2958   13]\n",
      " [  44  583]]\n",
      "no of estimators: 44\n",
      "              precision    recall  f1-score   support\n",
      "\n",
      "           0       0.99      1.00      0.99      2971\n",
      "           1       0.98      0.93      0.95       627\n",
      "\n",
      "    accuracy                           0.98      3598\n",
      "   macro avg       0.98      0.96      0.97      3598\n",
      "weighted avg       0.98      0.98      0.98      3598\n",
      "\n",
      "[[2957   14]\n",
      " [  44  583]]\n",
      "no of estimators: 45\n"
     ]
    },
    {
     "name": "stdout",
     "output_type": "stream",
     "text": [
      "              precision    recall  f1-score   support\n",
      "\n",
      "           0       0.99      1.00      0.99      2971\n",
      "           1       0.98      0.93      0.95       627\n",
      "\n",
      "    accuracy                           0.98      3598\n",
      "   macro avg       0.98      0.96      0.97      3598\n",
      "weighted avg       0.98      0.98      0.98      3598\n",
      "\n",
      "[[2957   14]\n",
      " [  44  583]]\n",
      "no of estimators: 46\n",
      "              precision    recall  f1-score   support\n",
      "\n",
      "           0       0.99      0.99      0.99      2971\n",
      "           1       0.97      0.93      0.95       627\n",
      "\n",
      "    accuracy                           0.98      3598\n",
      "   macro avg       0.98      0.96      0.97      3598\n",
      "weighted avg       0.98      0.98      0.98      3598\n",
      "\n",
      "[[2956   15]\n",
      " [  44  583]]\n",
      "no of estimators: 47\n",
      "              precision    recall  f1-score   support\n",
      "\n",
      "           0       0.99      0.99      0.99      2971\n",
      "           1       0.97      0.93      0.95       627\n",
      "\n",
      "    accuracy                           0.98      3598\n",
      "   macro avg       0.98      0.96      0.97      3598\n",
      "weighted avg       0.98      0.98      0.98      3598\n",
      "\n",
      "[[2956   15]\n",
      " [  44  583]]\n",
      "no of estimators: 48\n",
      "              precision    recall  f1-score   support\n",
      "\n",
      "           0       0.99      0.99      0.99      2971\n",
      "           1       0.97      0.93      0.95       627\n",
      "\n",
      "    accuracy                           0.98      3598\n",
      "   macro avg       0.98      0.96      0.97      3598\n",
      "weighted avg       0.98      0.98      0.98      3598\n",
      "\n",
      "[[2954   17]\n",
      " [  44  583]]\n",
      "no of estimators: 49\n",
      "              precision    recall  f1-score   support\n",
      "\n",
      "           0       0.99      0.99      0.99      2971\n",
      "           1       0.97      0.93      0.95       627\n",
      "\n",
      "    accuracy                           0.98      3598\n",
      "   macro avg       0.98      0.96      0.97      3598\n",
      "weighted avg       0.98      0.98      0.98      3598\n",
      "\n",
      "[[2954   17]\n",
      " [  44  583]]\n",
      "no of estimators: 50\n",
      "              precision    recall  f1-score   support\n",
      "\n",
      "           0       0.99      0.99      0.99      2971\n",
      "           1       0.97      0.93      0.95       627\n",
      "\n",
      "    accuracy                           0.98      3598\n",
      "   macro avg       0.98      0.96      0.97      3598\n",
      "weighted avg       0.98      0.98      0.98      3598\n",
      "\n",
      "[[2954   17]\n",
      " [  44  583]]\n",
      "no of estimators: 51\n",
      "              precision    recall  f1-score   support\n",
      "\n",
      "           0       0.99      0.99      0.99      2971\n",
      "           1       0.97      0.93      0.95       627\n",
      "\n",
      "    accuracy                           0.98      3598\n",
      "   macro avg       0.98      0.96      0.97      3598\n",
      "weighted avg       0.98      0.98      0.98      3598\n",
      "\n",
      "[[2954   17]\n",
      " [  44  583]]\n",
      "no of estimators: 52\n",
      "              precision    recall  f1-score   support\n",
      "\n",
      "           0       0.99      0.99      0.99      2971\n",
      "           1       0.97      0.93      0.95       627\n",
      "\n",
      "    accuracy                           0.98      3598\n",
      "   macro avg       0.98      0.96      0.97      3598\n",
      "weighted avg       0.98      0.98      0.98      3598\n",
      "\n",
      "[[2954   17]\n",
      " [  44  583]]\n",
      "no of estimators: 53\n",
      "              precision    recall  f1-score   support\n",
      "\n",
      "           0       0.99      0.99      0.99      2971\n",
      "           1       0.97      0.93      0.95       627\n",
      "\n",
      "    accuracy                           0.98      3598\n",
      "   macro avg       0.98      0.96      0.97      3598\n",
      "weighted avg       0.98      0.98      0.98      3598\n",
      "\n",
      "[[2955   16]\n",
      " [  44  583]]\n",
      "no of estimators: 54\n",
      "              precision    recall  f1-score   support\n",
      "\n",
      "           0       0.99      0.99      0.99      2971\n",
      "           1       0.97      0.93      0.95       627\n",
      "\n",
      "    accuracy                           0.98      3598\n",
      "   macro avg       0.98      0.96      0.97      3598\n",
      "weighted avg       0.98      0.98      0.98      3598\n",
      "\n",
      "[[2954   17]\n",
      " [  44  583]]\n",
      "no of estimators: 55\n",
      "              precision    recall  f1-score   support\n",
      "\n",
      "           0       0.99      0.99      0.99      2971\n",
      "           1       0.97      0.93      0.95       627\n",
      "\n",
      "    accuracy                           0.98      3598\n",
      "   macro avg       0.98      0.96      0.97      3598\n",
      "weighted avg       0.98      0.98      0.98      3598\n",
      "\n",
      "[[2954   17]\n",
      " [  44  583]]\n",
      "no of estimators: 56\n",
      "              precision    recall  f1-score   support\n",
      "\n",
      "           0       0.99      0.99      0.99      2971\n",
      "           1       0.97      0.93      0.95       627\n",
      "\n",
      "    accuracy                           0.98      3598\n",
      "   macro avg       0.98      0.96      0.97      3598\n",
      "weighted avg       0.98      0.98      0.98      3598\n",
      "\n",
      "[[2954   17]\n",
      " [  44  583]]\n",
      "no of estimators: 57\n",
      "              precision    recall  f1-score   support\n",
      "\n",
      "           0       0.99      0.99      0.99      2971\n",
      "           1       0.97      0.93      0.95       627\n",
      "\n",
      "    accuracy                           0.98      3598\n",
      "   macro avg       0.98      0.96      0.97      3598\n",
      "weighted avg       0.98      0.98      0.98      3598\n",
      "\n",
      "[[2954   17]\n",
      " [  44  583]]\n",
      "no of estimators: 58\n",
      "              precision    recall  f1-score   support\n",
      "\n",
      "           0       0.99      0.99      0.99      2971\n",
      "           1       0.97      0.93      0.95       627\n",
      "\n",
      "    accuracy                           0.98      3598\n",
      "   macro avg       0.98      0.96      0.97      3598\n",
      "weighted avg       0.98      0.98      0.98      3598\n",
      "\n",
      "[[2954   17]\n",
      " [  44  583]]\n",
      "no of estimators: 59\n",
      "              precision    recall  f1-score   support\n",
      "\n",
      "           0       0.99      0.99      0.99      2971\n",
      "           1       0.97      0.93      0.95       627\n",
      "\n",
      "    accuracy                           0.98      3598\n",
      "   macro avg       0.98      0.96      0.97      3598\n",
      "weighted avg       0.98      0.98      0.98      3598\n",
      "\n",
      "[[2953   18]\n",
      " [  44  583]]\n",
      "no of estimators: 60\n",
      "              precision    recall  f1-score   support\n",
      "\n",
      "           0       0.99      0.99      0.99      2971\n",
      "           1       0.97      0.93      0.95       627\n",
      "\n",
      "    accuracy                           0.98      3598\n",
      "   macro avg       0.98      0.96      0.97      3598\n",
      "weighted avg       0.98      0.98      0.98      3598\n",
      "\n",
      "[[2953   18]\n",
      " [  44  583]]\n",
      "no of estimators: 61\n",
      "              precision    recall  f1-score   support\n",
      "\n",
      "           0       0.99      0.99      0.99      2971\n",
      "           1       0.97      0.93      0.95       627\n",
      "\n",
      "    accuracy                           0.98      3598\n",
      "   macro avg       0.98      0.96      0.97      3598\n",
      "weighted avg       0.98      0.98      0.98      3598\n",
      "\n",
      "[[2954   17]\n",
      " [  44  583]]\n",
      "no of estimators: 62\n",
      "              precision    recall  f1-score   support\n",
      "\n",
      "           0       0.99      0.99      0.99      2971\n",
      "           1       0.97      0.93      0.95       627\n",
      "\n",
      "    accuracy                           0.98      3598\n",
      "   macro avg       0.98      0.96      0.97      3598\n",
      "weighted avg       0.98      0.98      0.98      3598\n",
      "\n",
      "[[2954   17]\n",
      " [  44  583]]\n",
      "no of estimators: 63\n",
      "              precision    recall  f1-score   support\n",
      "\n",
      "           0       0.99      0.99      0.99      2971\n",
      "           1       0.97      0.93      0.95       627\n",
      "\n",
      "    accuracy                           0.98      3598\n",
      "   macro avg       0.98      0.96      0.97      3598\n",
      "weighted avg       0.98      0.98      0.98      3598\n",
      "\n",
      "[[2955   16]\n",
      " [  44  583]]\n",
      "no of estimators: 64\n",
      "              precision    recall  f1-score   support\n",
      "\n",
      "           0       0.99      0.99      0.99      2971\n",
      "           1       0.97      0.93      0.95       627\n",
      "\n",
      "    accuracy                           0.98      3598\n",
      "   macro avg       0.98      0.96      0.97      3598\n",
      "weighted avg       0.98      0.98      0.98      3598\n",
      "\n",
      "[[2955   16]\n",
      " [  44  583]]\n",
      "no of estimators: 65\n",
      "              precision    recall  f1-score   support\n",
      "\n",
      "           0       0.99      0.99      0.99      2971\n",
      "           1       0.97      0.93      0.95       627\n",
      "\n",
      "    accuracy                           0.98      3598\n",
      "   macro avg       0.98      0.96      0.97      3598\n",
      "weighted avg       0.98      0.98      0.98      3598\n",
      "\n",
      "[[2955   16]\n",
      " [  44  583]]\n",
      "no of estimators: 66\n",
      "              precision    recall  f1-score   support\n",
      "\n",
      "           0       0.99      0.99      0.99      2971\n",
      "           1       0.97      0.93      0.95       627\n",
      "\n",
      "    accuracy                           0.98      3598\n",
      "   macro avg       0.98      0.96      0.97      3598\n",
      "weighted avg       0.98      0.98      0.98      3598\n",
      "\n",
      "[[2956   15]\n",
      " [  44  583]]\n",
      "no of estimators: 67\n"
     ]
    },
    {
     "name": "stdout",
     "output_type": "stream",
     "text": [
      "              precision    recall  f1-score   support\n",
      "\n",
      "           0       0.99      0.99      0.99      2971\n",
      "           1       0.97      0.93      0.95       627\n",
      "\n",
      "    accuracy                           0.98      3598\n",
      "   macro avg       0.98      0.96      0.97      3598\n",
      "weighted avg       0.98      0.98      0.98      3598\n",
      "\n",
      "[[2956   15]\n",
      " [  44  583]]\n",
      "no of estimators: 68\n",
      "              precision    recall  f1-score   support\n",
      "\n",
      "           0       0.99      0.99      0.99      2971\n",
      "           1       0.97      0.93      0.95       627\n",
      "\n",
      "    accuracy                           0.98      3598\n",
      "   macro avg       0.98      0.96      0.97      3598\n",
      "weighted avg       0.98      0.98      0.98      3598\n",
      "\n",
      "[[2955   16]\n",
      " [  44  583]]\n",
      "no of estimators: 69\n",
      "              precision    recall  f1-score   support\n",
      "\n",
      "           0       0.99      0.99      0.99      2971\n",
      "           1       0.97      0.93      0.95       627\n",
      "\n",
      "    accuracy                           0.98      3598\n",
      "   macro avg       0.98      0.96      0.97      3598\n",
      "weighted avg       0.98      0.98      0.98      3598\n",
      "\n",
      "[[2955   16]\n",
      " [  44  583]]\n",
      "no of estimators: 70\n",
      "              precision    recall  f1-score   support\n",
      "\n",
      "           0       0.99      0.99      0.99      2971\n",
      "           1       0.97      0.93      0.95       627\n",
      "\n",
      "    accuracy                           0.98      3598\n",
      "   macro avg       0.98      0.96      0.97      3598\n",
      "weighted avg       0.98      0.98      0.98      3598\n",
      "\n",
      "[[2955   16]\n",
      " [  44  583]]\n",
      "no of estimators: 71\n",
      "              precision    recall  f1-score   support\n",
      "\n",
      "           0       0.99      0.99      0.99      2971\n",
      "           1       0.97      0.93      0.95       627\n",
      "\n",
      "    accuracy                           0.98      3598\n",
      "   macro avg       0.98      0.96      0.97      3598\n",
      "weighted avg       0.98      0.98      0.98      3598\n",
      "\n",
      "[[2955   16]\n",
      " [  44  583]]\n",
      "no of estimators: 72\n",
      "              precision    recall  f1-score   support\n",
      "\n",
      "           0       0.99      0.99      0.99      2971\n",
      "           1       0.97      0.93      0.95       627\n",
      "\n",
      "    accuracy                           0.98      3598\n",
      "   macro avg       0.98      0.96      0.97      3598\n",
      "weighted avg       0.98      0.98      0.98      3598\n",
      "\n",
      "[[2956   15]\n",
      " [  44  583]]\n",
      "no of estimators: 73\n",
      "              precision    recall  f1-score   support\n",
      "\n",
      "           0       0.98      0.99      0.99      2971\n",
      "           1       0.97      0.93      0.95       627\n",
      "\n",
      "    accuracy                           0.98      3598\n",
      "   macro avg       0.98      0.96      0.97      3598\n",
      "weighted avg       0.98      0.98      0.98      3598\n",
      "\n",
      "[[2955   16]\n",
      " [  45  582]]\n",
      "no of estimators: 74\n",
      "              precision    recall  f1-score   support\n",
      "\n",
      "           0       0.98      0.99      0.99      2971\n",
      "           1       0.97      0.93      0.95       627\n",
      "\n",
      "    accuracy                           0.98      3598\n",
      "   macro avg       0.98      0.96      0.97      3598\n",
      "weighted avg       0.98      0.98      0.98      3598\n",
      "\n",
      "[[2955   16]\n",
      " [  45  582]]\n",
      "no of estimators: 75\n",
      "              precision    recall  f1-score   support\n",
      "\n",
      "           0       0.98      0.99      0.99      2971\n",
      "           1       0.97      0.93      0.95       627\n",
      "\n",
      "    accuracy                           0.98      3598\n",
      "   macro avg       0.98      0.96      0.97      3598\n",
      "weighted avg       0.98      0.98      0.98      3598\n",
      "\n",
      "[[2955   16]\n",
      " [  45  582]]\n",
      "no of estimators: 76\n",
      "              precision    recall  f1-score   support\n",
      "\n",
      "           0       0.98      0.99      0.99      2971\n",
      "           1       0.97      0.93      0.95       627\n",
      "\n",
      "    accuracy                           0.98      3598\n",
      "   macro avg       0.98      0.96      0.97      3598\n",
      "weighted avg       0.98      0.98      0.98      3598\n",
      "\n",
      "[[2955   16]\n",
      " [  45  582]]\n",
      "no of estimators: 77\n",
      "              precision    recall  f1-score   support\n",
      "\n",
      "           0       0.98      0.99      0.99      2971\n",
      "           1       0.97      0.93      0.95       627\n",
      "\n",
      "    accuracy                           0.98      3598\n",
      "   macro avg       0.98      0.96      0.97      3598\n",
      "weighted avg       0.98      0.98      0.98      3598\n",
      "\n",
      "[[2955   16]\n",
      " [  45  582]]\n",
      "no of estimators: 78\n",
      "              precision    recall  f1-score   support\n",
      "\n",
      "           0       0.98      0.99      0.99      2971\n",
      "           1       0.97      0.93      0.95       627\n",
      "\n",
      "    accuracy                           0.98      3598\n",
      "   macro avg       0.98      0.96      0.97      3598\n",
      "weighted avg       0.98      0.98      0.98      3598\n",
      "\n",
      "[[2954   17]\n",
      " [  45  582]]\n",
      "no of estimators: 79\n",
      "              precision    recall  f1-score   support\n",
      "\n",
      "           0       0.99      0.99      0.99      2971\n",
      "           1       0.97      0.93      0.95       627\n",
      "\n",
      "    accuracy                           0.98      3598\n",
      "   macro avg       0.98      0.96      0.97      3598\n",
      "weighted avg       0.98      0.98      0.98      3598\n",
      "\n",
      "[[2956   15]\n",
      " [  45  582]]\n",
      "no of estimators: 80\n",
      "              precision    recall  f1-score   support\n",
      "\n",
      "           0       0.99      0.99      0.99      2971\n",
      "           1       0.97      0.93      0.95       627\n",
      "\n",
      "    accuracy                           0.98      3598\n",
      "   macro avg       0.98      0.96      0.97      3598\n",
      "weighted avg       0.98      0.98      0.98      3598\n",
      "\n",
      "[[2956   15]\n",
      " [  45  582]]\n",
      "no of estimators: 81\n",
      "              precision    recall  f1-score   support\n",
      "\n",
      "           0       0.99      0.99      0.99      2971\n",
      "           1       0.97      0.93      0.95       627\n",
      "\n",
      "    accuracy                           0.98      3598\n",
      "   macro avg       0.98      0.96      0.97      3598\n",
      "weighted avg       0.98      0.98      0.98      3598\n",
      "\n",
      "[[2956   15]\n",
      " [  45  582]]\n",
      "no of estimators: 82\n",
      "              precision    recall  f1-score   support\n",
      "\n",
      "           0       0.99      0.99      0.99      2971\n",
      "           1       0.97      0.93      0.95       627\n",
      "\n",
      "    accuracy                           0.98      3598\n",
      "   macro avg       0.98      0.96      0.97      3598\n",
      "weighted avg       0.98      0.98      0.98      3598\n",
      "\n",
      "[[2956   15]\n",
      " [  45  582]]\n",
      "no of estimators: 83\n",
      "              precision    recall  f1-score   support\n",
      "\n",
      "           0       0.99      0.99      0.99      2971\n",
      "           1       0.97      0.93      0.95       627\n",
      "\n",
      "    accuracy                           0.98      3598\n",
      "   macro avg       0.98      0.96      0.97      3598\n",
      "weighted avg       0.98      0.98      0.98      3598\n",
      "\n",
      "[[2956   15]\n",
      " [  45  582]]\n",
      "no of estimators: 84\n",
      "              precision    recall  f1-score   support\n",
      "\n",
      "           0       0.99      0.99      0.99      2971\n",
      "           1       0.97      0.93      0.95       627\n",
      "\n",
      "    accuracy                           0.98      3598\n",
      "   macro avg       0.98      0.96      0.97      3598\n",
      "weighted avg       0.98      0.98      0.98      3598\n",
      "\n",
      "[[2956   15]\n",
      " [  45  582]]\n",
      "no of estimators: 85\n",
      "              precision    recall  f1-score   support\n",
      "\n",
      "           0       0.99      0.99      0.99      2971\n",
      "           1       0.97      0.93      0.95       627\n",
      "\n",
      "    accuracy                           0.98      3598\n",
      "   macro avg       0.98      0.96      0.97      3598\n",
      "weighted avg       0.98      0.98      0.98      3598\n",
      "\n",
      "[[2956   15]\n",
      " [  45  582]]\n",
      "no of estimators: 86\n",
      "              precision    recall  f1-score   support\n",
      "\n",
      "           0       0.99      0.99      0.99      2971\n",
      "           1       0.97      0.93      0.95       627\n",
      "\n",
      "    accuracy                           0.98      3598\n",
      "   macro avg       0.98      0.96      0.97      3598\n",
      "weighted avg       0.98      0.98      0.98      3598\n",
      "\n",
      "[[2956   15]\n",
      " [  45  582]]\n",
      "no of estimators: 87\n",
      "              precision    recall  f1-score   support\n",
      "\n",
      "           0       0.99      0.99      0.99      2971\n",
      "           1       0.97      0.93      0.95       627\n",
      "\n",
      "    accuracy                           0.98      3598\n",
      "   macro avg       0.98      0.96      0.97      3598\n",
      "weighted avg       0.98      0.98      0.98      3598\n",
      "\n",
      "[[2956   15]\n",
      " [  45  582]]\n",
      "no of estimators: 88\n",
      "              precision    recall  f1-score   support\n",
      "\n",
      "           0       0.98      0.99      0.99      2971\n",
      "           1       0.97      0.93      0.95       627\n",
      "\n",
      "    accuracy                           0.98      3598\n",
      "   macro avg       0.98      0.96      0.97      3598\n",
      "weighted avg       0.98      0.98      0.98      3598\n",
      "\n",
      "[[2955   16]\n",
      " [  45  582]]\n",
      "no of estimators: 89\n"
     ]
    },
    {
     "name": "stdout",
     "output_type": "stream",
     "text": [
      "              precision    recall  f1-score   support\n",
      "\n",
      "           0       0.99      0.99      0.99      2971\n",
      "           1       0.97      0.93      0.95       627\n",
      "\n",
      "    accuracy                           0.98      3598\n",
      "   macro avg       0.98      0.96      0.97      3598\n",
      "weighted avg       0.98      0.98      0.98      3598\n",
      "\n",
      "[[2956   15]\n",
      " [  45  582]]\n",
      "no of estimators: 90\n",
      "              precision    recall  f1-score   support\n",
      "\n",
      "           0       0.98      0.99      0.99      2971\n",
      "           1       0.97      0.93      0.95       627\n",
      "\n",
      "    accuracy                           0.98      3598\n",
      "   macro avg       0.98      0.96      0.97      3598\n",
      "weighted avg       0.98      0.98      0.98      3598\n",
      "\n",
      "[[2955   16]\n",
      " [  45  582]]\n",
      "no of estimators: 91\n",
      "              precision    recall  f1-score   support\n",
      "\n",
      "           0       0.98      0.99      0.99      2971\n",
      "           1       0.97      0.93      0.95       627\n",
      "\n",
      "    accuracy                           0.98      3598\n",
      "   macro avg       0.98      0.96      0.97      3598\n",
      "weighted avg       0.98      0.98      0.98      3598\n",
      "\n",
      "[[2955   16]\n",
      " [  45  582]]\n",
      "no of estimators: 92\n",
      "              precision    recall  f1-score   support\n",
      "\n",
      "           0       0.98      0.99      0.99      2971\n",
      "           1       0.97      0.93      0.95       627\n",
      "\n",
      "    accuracy                           0.98      3598\n",
      "   macro avg       0.98      0.96      0.97      3598\n",
      "weighted avg       0.98      0.98      0.98      3598\n",
      "\n",
      "[[2955   16]\n",
      " [  45  582]]\n",
      "no of estimators: 93\n",
      "              precision    recall  f1-score   support\n",
      "\n",
      "           0       0.98      0.99      0.99      2971\n",
      "           1       0.97      0.93      0.95       627\n",
      "\n",
      "    accuracy                           0.98      3598\n",
      "   macro avg       0.98      0.96      0.97      3598\n",
      "weighted avg       0.98      0.98      0.98      3598\n",
      "\n",
      "[[2955   16]\n",
      " [  45  582]]\n",
      "no of estimators: 94\n",
      "              precision    recall  f1-score   support\n",
      "\n",
      "           0       0.98      0.99      0.99      2971\n",
      "           1       0.97      0.93      0.95       627\n",
      "\n",
      "    accuracy                           0.98      3598\n",
      "   macro avg       0.98      0.96      0.97      3598\n",
      "weighted avg       0.98      0.98      0.98      3598\n",
      "\n",
      "[[2955   16]\n",
      " [  45  582]]\n",
      "no of estimators: 95\n",
      "              precision    recall  f1-score   support\n",
      "\n",
      "           0       0.98      0.99      0.99      2971\n",
      "           1       0.97      0.93      0.95       627\n",
      "\n",
      "    accuracy                           0.98      3598\n",
      "   macro avg       0.98      0.96      0.97      3598\n",
      "weighted avg       0.98      0.98      0.98      3598\n",
      "\n",
      "[[2955   16]\n",
      " [  45  582]]\n",
      "no of estimators: 96\n",
      "              precision    recall  f1-score   support\n",
      "\n",
      "           0       0.98      0.99      0.99      2971\n",
      "           1       0.97      0.93      0.95       627\n",
      "\n",
      "    accuracy                           0.98      3598\n",
      "   macro avg       0.98      0.96      0.97      3598\n",
      "weighted avg       0.98      0.98      0.98      3598\n",
      "\n",
      "[[2955   16]\n",
      " [  45  582]]\n",
      "no of estimators: 97\n",
      "              precision    recall  f1-score   support\n",
      "\n",
      "           0       0.98      0.99      0.99      2971\n",
      "           1       0.97      0.93      0.95       627\n",
      "\n",
      "    accuracy                           0.98      3598\n",
      "   macro avg       0.98      0.96      0.97      3598\n",
      "weighted avg       0.98      0.98      0.98      3598\n",
      "\n",
      "[[2954   17]\n",
      " [  45  582]]\n",
      "no of estimators: 98\n",
      "              precision    recall  f1-score   support\n",
      "\n",
      "           0       0.98      0.99      0.99      2971\n",
      "           1       0.97      0.93      0.95       627\n",
      "\n",
      "    accuracy                           0.98      3598\n",
      "   macro avg       0.98      0.96      0.97      3598\n",
      "weighted avg       0.98      0.98      0.98      3598\n",
      "\n",
      "[[2954   17]\n",
      " [  45  582]]\n",
      "no of estimators: 99\n",
      "              precision    recall  f1-score   support\n",
      "\n",
      "           0       0.98      0.99      0.99      2971\n",
      "           1       0.97      0.93      0.95       627\n",
      "\n",
      "    accuracy                           0.98      3598\n",
      "   macro avg       0.98      0.96      0.97      3598\n",
      "weighted avg       0.98      0.98      0.98      3598\n",
      "\n",
      "[[2954   17]\n",
      " [  45  582]]\n",
      "no of estimators: 100\n",
      "              precision    recall  f1-score   support\n",
      "\n",
      "           0       0.98      0.99      0.99      2971\n",
      "           1       0.97      0.93      0.95       627\n",
      "\n",
      "    accuracy                           0.98      3598\n",
      "   macro avg       0.98      0.96      0.97      3598\n",
      "weighted avg       0.98      0.98      0.98      3598\n",
      "\n",
      "[[2954   17]\n",
      " [  45  582]]\n"
     ]
    }
   ],
   "source": [
    "from xgboost import XGBClassifier\n",
    "for i in range(1,101):\n",
    "  print('no of estimators:',i)\n",
    "  xgc=XGBClassifier(n_estimators=i,random_state=1,reg_alpha=1)\n",
    "  xgc=create_model(xgc)"
   ]
  },
  {
   "cell_type": "markdown",
   "metadata": {},
   "source": [
    "# *Using Support Vector Machine ( SVM )*"
   ]
  },
  {
   "cell_type": "code",
   "execution_count": 57,
   "metadata": {
    "colab": {
     "base_uri": "https://localhost:8080/"
    },
    "id": "KT780Yixo-jl",
    "outputId": "b4820467-fd7e-4ae2-8c50-d284d1a98937"
   },
   "outputs": [
    {
     "name": "stdout",
     "output_type": "stream",
     "text": [
      "              precision    recall  f1-score   support\n",
      "\n",
      "           0       0.84      0.98      0.90      2971\n",
      "           1       0.49      0.10      0.16       627\n",
      "\n",
      "    accuracy                           0.83      3598\n",
      "   macro avg       0.66      0.54      0.53      3598\n",
      "weighted avg       0.78      0.83      0.77      3598\n",
      "\n",
      "[[2907   64]\n",
      " [ 565   62]]\n"
     ]
    }
   ],
   "source": [
    "from sklearn.svm import LinearSVC\n",
    "svc=LinearSVC()\n",
    "svc=create_model(svc)"
   ]
  },
  {
   "cell_type": "markdown",
   "metadata": {},
   "source": [
    "# Adding Error "
   ]
  },
  {
   "cell_type": "code",
   "execution_count": 58,
   "metadata": {},
   "outputs": [
    {
     "name": "stdout",
     "output_type": "stream",
     "text": [
      "              precision    recall  f1-score   support\n",
      "\n",
      "           0       0.84      0.98      0.90      2971\n",
      "           1       0.49      0.10      0.16       627\n",
      "\n",
      "    accuracy                           0.83      3598\n",
      "   macro avg       0.66      0.54      0.53      3598\n",
      "weighted avg       0.78      0.83      0.77      3598\n",
      "\n",
      "[[2907   64]\n",
      " [ 565   62]]\n"
     ]
    }
   ],
   "source": [
    "svc=LinearSVC(random_state=1,C=.1)\n",
    "svc=create_model(svc)"
   ]
  },
  {
   "cell_type": "markdown",
   "metadata": {},
   "source": [
    "# Conclusion:- There is no change in score as per C."
   ]
  },
  {
   "cell_type": "markdown",
   "metadata": {},
   "source": [
    "# which means data is not linearly separating.i.e the dataset is non-linear"
   ]
  },
  {
   "cell_type": "markdown",
   "metadata": {},
   "source": [
    "# *SVC Polynomial Kernel Function*"
   ]
  },
  {
   "cell_type": "code",
   "execution_count": 59,
   "metadata": {
    "colab": {
     "base_uri": "https://localhost:8080/"
    },
    "id": "q8PzM5CksR1j",
    "outputId": "6568fa75-1701-41db-c840-590009c595cc"
   },
   "outputs": [
    {
     "name": "stdout",
     "output_type": "stream",
     "text": [
      "              precision    recall  f1-score   support\n",
      "\n",
      "           0       0.97      0.97      0.97      2971\n",
      "           1       0.87      0.87      0.87       627\n",
      "\n",
      "    accuracy                           0.95      3598\n",
      "   macro avg       0.92      0.92      0.92      3598\n",
      "weighted avg       0.95      0.95      0.95      3598\n",
      "\n",
      "[[2891   80]\n",
      " [  84  543]]\n"
     ]
    }
   ],
   "source": [
    "from sklearn.svm import SVC\n",
    "poly_svc=SVC(random_state=1,kernel='poly')\n",
    "poly_svc=create_model(poly_svc)"
   ]
  },
  {
   "cell_type": "markdown",
   "metadata": {},
   "source": [
    "# KNeighborsClassifier"
   ]
  },
  {
   "cell_type": "code",
   "execution_count": 60,
   "metadata": {
    "id": "weGFeme1tC5S"
   },
   "outputs": [
    {
     "name": "stdout",
     "output_type": "stream",
     "text": [
      "              precision    recall  f1-score   support\n",
      "\n",
      "           0       0.98      0.97      0.98      2971\n",
      "           1       0.87      0.91      0.89       627\n",
      "\n",
      "    accuracy                           0.96      3598\n",
      "   macro avg       0.93      0.94      0.94      3598\n",
      "weighted avg       0.96      0.96      0.96      3598\n",
      "\n",
      "[[2889   82]\n",
      " [  54  573]]\n"
     ]
    }
   ],
   "source": [
    "from sklearn.neighbors import KNeighborsClassifier\n",
    "knc=KNeighborsClassifier(n_neighbors=5,metric='minkowski',p=2)\n",
    "knc=create_model(knc)"
   ]
  },
  {
   "cell_type": "markdown",
   "metadata": {},
   "source": [
    "# GaussianNB"
   ]
  },
  {
   "cell_type": "code",
   "execution_count": 61,
   "metadata": {},
   "outputs": [
    {
     "name": "stdout",
     "output_type": "stream",
     "text": [
      "              precision    recall  f1-score   support\n",
      "\n",
      "           0       0.92      0.88      0.90      2971\n",
      "           1       0.52      0.61      0.56       627\n",
      "\n",
      "    accuracy                           0.83      3598\n",
      "   macro avg       0.72      0.75      0.73      3598\n",
      "weighted avg       0.85      0.83      0.84      3598\n",
      "\n",
      "[[2611  360]\n",
      " [ 242  385]]\n"
     ]
    }
   ],
   "source": [
    "from sklearn.naive_bayes import GaussianNB\n",
    "gnb=GaussianNB()\n",
    "gnb=create_model(gnb)"
   ]
  },
  {
   "cell_type": "markdown",
   "metadata": {},
   "source": [
    "\n",
    "# Conclusion"
   ]
  },
  {
   "cell_type": "markdown",
   "metadata": {},
   "source": [
    "# We have used 17 different methods mentiond from above table with different methods with their percentage.\n"
   ]
  },
  {
   "cell_type": "markdown",
   "metadata": {},
   "source": [
    "# The Best result we got is in DecisionTree Classifier i.e. 98%. "
   ]
  },
  {
   "cell_type": "markdown",
   "metadata": {},
   "source": [
    "<pre>\n",
    "\n",
    "# Machine Learning Algorithms                        Results\n",
    "------------------------------------------------------- -----------------------------------------------\n",
    "1.Logistic Regression                                     1 : .18\n",
    "                                                         \n",
    "2.Decision Tree Classifier  (Gini)                        1 : .93\n",
    "                                                          \n",
    "3.Decision Tree Classifier  (Entropy)                     1 : .48\n",
    "                                                          \n",
    "4.Decision Tree Classifier  Max Depth (Gini)              1 : .95\n",
    "                                                          \n",
    "5.Decision Tree Classifier  Max Depth (Entropy)           1 : .95\n",
    "                                                          \n",
    "6.Decision Tree Classifier  Min Samples Leaf (Gini)       1: .61\n",
    "                                                          \n",
    "7.Decision Tree Classifier  Min Samples Leaf (Entropy)    1 :.48\n",
    "                                                          \n",
    "8.Random Forest Classifier (Gini)                         1: .56\n",
    "                                                          \n",
    "9.Random Forest Classifier (Entropy)                      1: .57\n",
    "                                                          \n",
    "10.Ada Boost Classifier                                   1: .76\n",
    "                                                          \n",
    "11.Gradient Boost Classifier                              1: .74\n",
    "                                                          \n",
    "12.Extreme Gradient Boost Classifier                      1: .78\n",
    "                                                          \n",
    "13.Linear SVC                                             1: .83\n",
    "                                                          \n",
    "14.Linear SVC(Adding Errors)                              1: .83\n",
    "                                                          \n",
    "15.SVC Polynomial Kernel Function                         1: .94\n",
    "                                                          \n",
    "16.KNeighbors Classifier                                  1: .59   \n",
    "\n",
    "17.GaussianNB                                             1: 98 \n",
    "\n",
    " <pre>                                                         "
   ]
  },
  {
   "cell_type": "code",
   "execution_count": null,
   "metadata": {},
   "outputs": [],
   "source": []
  },
  {
   "cell_type": "code",
   "execution_count": null,
   "metadata": {},
   "outputs": [],
   "source": []
  }
 ],
 "metadata": {
  "colab": {
   "collapsed_sections": [],
   "name": "Untitled0.ipynb",
   "provenance": []
  },
  "kernelspec": {
   "display_name": "Python 3",
   "language": "python",
   "name": "python3"
  },
  "language_info": {
   "codemirror_mode": {
    "name": "ipython",
    "version": 3
   },
   "file_extension": ".py",
   "mimetype": "text/x-python",
   "name": "python",
   "nbconvert_exporter": "python",
   "pygments_lexer": "ipython3",
   "version": "3.8.8"
  }
 },
 "nbformat": 4,
 "nbformat_minor": 1
}
